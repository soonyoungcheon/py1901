{
 "cells": [
  {
   "cell_type": "code",
   "execution_count": 9,
   "metadata": {
    "collapsed": true
   },
   "outputs": [
    {
     "name": "stdout",
     "output_type": "stream",
     "text": [
      "<class 'list'> <class 'list'> <class 'list'>\n"
     ]
    }
   ],
   "source": [
    "# 파이선이 제공하는 우용한 자료구조들 중 리스트와 딕셔너리가 여러가지 응용분야에서 많이 활용되는 핵심요소임\n",
    "# 하지만, 과학기술이나 금융분야에서는 더 빠른 연산이 가능한 특별한 자료 구조 필요\n",
    "# 즉, 선형대수나 벡터공간이론 등 수학이론에 사용되는 배열(행/열로 구성) 자료가 필요 \n",
    "# n차원의 배열을 쉬고 효율적으로 고성능으로 다루기 위한 목적으로 만들어 짐\n",
    "# 특히, 디지털 이미지는 해당 영역에 대한 픽셀 정보를 2차원 배열로 인식해서 처리할 수 있음\n",
    "# 데이터가 무엇이든 상관없이 그 데이터를 분석하려면 먼저 숫자배열로 변환하는 것이 우선되어야 함\n",
    "# n차원 배열\n",
    "# 파이썬의 리스트와는 달리 numpy 배열은 같은 종류의 데이터만 저장 가능\n",
    "import numpy as np\n",
    "\n",
    "# 파이썬 리스트\n",
    "a = list([1,2,3,4,5])   # 숫자\n",
    "b = list(['a','b','c','d','e'])  # 문자\n",
    "c = list([0.1,'b', 'c', 1,2])  # 문자&숫자\n",
    "\n",
    "print(type(a), type(b), type(c))"
   ]
  },
  {
   "cell_type": "code",
   "execution_count": 3,
   "metadata": {},
   "outputs": [
    {
     "name": "stdout",
     "output_type": "stream",
     "text": [
      "<class 'list'> <class 'list'> <class 'list'>\n<class 'int'> <class 'str'> <class 'float'>\n"
     ]
    }
   ],
   "source": [
    "print(type(a), type(b), type(c))\n",
    "print(type(a[0]),type(b[0]),type(c[0]))"
   ]
  },
  {
   "cell_type": "code",
   "execution_count": 13,
   "metadata": {},
   "outputs": [
    {
     "name": "stdout",
     "output_type": "stream",
     "text": [
      "<class 'numpy.ndarray'> <class 'numpy.ndarray'> <class 'numpy.ndarray'>\n"
     ]
    }
   ],
   "source": [
    "# numpy 배열\n",
    "# np.array(배열대상값들)\n",
    "d = np.array([1,2,3,4,5])\n",
    "e = np.array(['a','b','c','d','e'])  # 문자\n",
    "f = np.array([0.1,'b', 'c', 1,2])  # 문자&숫자\n",
    "\n",
    "print(type(d),type(e),type(f))"
   ]
  },
  {
   "cell_type": "code",
   "execution_count": 15,
   "metadata": {},
   "outputs": [
    {
     "name": "stdout",
     "output_type": "stream",
     "text": [
      "<class 'numpy.int32'> <class 'numpy.str_'> <class 'numpy.str_'>\n"
     ]
    }
   ],
   "source": [
    "print(type(d[0]),type(e[0]),type(f[0]))"
   ]
  },
  {
   "cell_type": "code",
   "execution_count": 18,
   "metadata": {},
   "outputs": [
    {
     "name": "stdout",
     "output_type": "stream",
     "text": [
      "(5,)\n1\n"
     ]
    }
   ],
   "source": [
    "print(d.shape)  # 배열의 요소 수\n",
    "print(d.ndim)   # 배열의 차원수"
   ]
  },
  {
   "cell_type": "code",
   "execution_count": 27,
   "metadata": {},
   "outputs": [
    {
     "name": "stdout",
     "output_type": "stream",
     "text": [
      "(3, 3)\n2\n"
     ]
    }
   ],
   "source": [
    "g = np.array([[1,2,3],[4,5,6],[7,8,9]])\n",
    "\n",
    "print(g.shape)\n",
    "print(g.ndim)"
   ]
  },
  {
   "cell_type": "code",
   "execution_count": 30,
   "metadata": {},
   "outputs": [
    {
     "name": "stdout",
     "output_type": "stream",
     "text": [
      "(2, 2, 2)\n3\n"
     ]
    }
   ],
   "source": [
    "h = np.array([[[1,2],[3,4]],[[5,6],[7,8]]])\n",
    "\n",
    "print(h.shape)\n",
    "print(h.ndim)"
   ]
  },
  {
   "cell_type": "code",
   "execution_count": 32,
   "metadata": {},
   "outputs": [
    {
     "name": "stdout",
     "output_type": "stream",
     "text": [
      "배열 개별 요소: 1 3 5\n배열 부분요소1: [1 2 3]\n배열 부분요소2: [1 2 3]\n배열 전체요소: [1 2 3 4 5]\n차원 정보 2\n요소 수 (3, 3)\n총 요소 수  9\n요소 자료형 int32\n각 요소 자료크기 4\n총 요소 자료크기 36\n"
     ]
    }
   ],
   "source": [
    "# 배열 요소에 접근하기\n",
    "print('배열 개별 요소:', d[0], d[2], d[4])\n",
    "print('배열 부분요소1:', d[:3])   # 마지막 요소 제외\n",
    "print('배열 부분요소2:', d[:3])\n",
    "print('배열 전체요소:', d[:])\n",
    "\n",
    "# 배열 세부 정보 확인\n",
    "print('차원 정보', g.ndim)\n",
    "print('요소 수', g.shape)\n",
    "print('총 요소 수 ', g.size)\n",
    "print('요소 자료형', g.dtype)\n",
    "print('각 요소 자료크기', g.itemsize)\n",
    "print('총 요소 자료크기', g.nbytes)"
   ]
  },
  {
   "cell_type": "code",
   "execution_count": 42,
   "metadata": {},
   "outputs": [
    {
     "name": "stdout",
     "output_type": "stream",
     "text": [
      "3\n"
     ]
    }
   ],
   "source": [
    "# 난수를 이용한 numpy 배열 생성\n",
    "# np.random.seed(181214)\n",
    "print(np.random.randint(10))  # 0 ~ 4 사이 난수"
   ]
  },
  {
   "cell_type": "code",
   "execution_count": 45,
   "metadata": {},
   "outputs": [
    {
     "name": "stdout",
     "output_type": "stream",
     "text": [
      "x1 [7 7 3 4 2 1] x2 [[2 3 5 9]\n [0 2 0 6]\n [4 1 4 9]] x3 [[[0 2 2 5 1]\n  [9 4 5 5 9]\n  [9 0 1 8 2]\n  [4 6 9 0 6]]\n\n [[1 6 0 2 6]\n  [8 0 8 2 2]\n  [0 4 6 1 6]\n  [5 0 0 3 3]]\n\n [[6 8 1 3 5]\n  [8 3 3 2 9]\n  [7 6 4 2 8]\n  [3 1 6 0 5]]]\n"
     ]
    }
   ],
   "source": [
    "x1 = np.random.randint(10, size=6)\n",
    "x2 = np.random.randint(10, size=(3,4))   # 2차원\n",
    "x3 = np.random.randint(10, size=(3,4,5))  # 3차원\n",
    "\n",
    "print('x1',x1,'x2',x2,'x3',x3)"
   ]
  },
  {
   "cell_type": "code",
   "execution_count": 47,
   "metadata": {},
   "outputs": [
    {
     "name": "stdout",
     "output_type": "stream",
     "text": [
      "[43  7 27 34 34 14]\n"
     ]
    }
   ],
   "source": [
    "# 1-45 범위 난수 6개 생성(중복 불가)\n",
    "x4 = np.random.randint(1,45,size=6)\n",
    "print(x4)"
   ]
  },
  {
   "cell_type": "code",
   "execution_count": 91,
   "metadata": {},
   "outputs": [
    {
     "name": "stdout",
     "output_type": "stream",
     "text": [
      "[7 6 3 2 1 5]\n"
     ]
    }
   ],
   "source": [
    "# 1-45 범위 난수 6개 생성(중복 불가)\n",
    "# np.unique() : 중복 제거 함수\n",
    "x6 = np.random.choice(7, 6, replace=False)+1\n",
    "print(x6)"
   ]
  },
  {
   "cell_type": "code",
   "execution_count": 50,
   "metadata": {},
   "outputs": [
    {
     "name": "stdout",
     "output_type": "stream",
     "text": [
      "[ 7 14 27 34 43]\n"
     ]
    }
   ],
   "source": [
    "# 1-45 범위 난수 6개 생성(중복 불가)\n",
    "# np.unique() : 중복 제거 함수\n",
    "x5 = np.unique(x4)\n",
    "print(x5)"
   ]
  },
  {
   "cell_type": "code",
   "execution_count": 92,
   "metadata": {},
   "outputs": [
    {
     "name": "stdout",
     "output_type": "stream",
     "text": [
      "배열의 첫요소 a\n배열의 마지막요소1 e\n배열의 마지막요소2 e\n"
     ]
    }
   ],
   "source": [
    "# 배열 슬라이싱 하기 : [시작: 끝: 스텝]\n",
    "print('배열의 첫요소',e[0])\n",
    "print('배열의 마지막요소1',e[-1])\n",
    "print('배열의 마지막요소2',e[len(e)-1])"
   ]
  },
  {
   "cell_type": "code",
   "execution_count": 95,
   "metadata": {
    "collapsed": true
   },
   "outputs": [
    {
     "name": "stdout",
     "output_type": "stream",
     "text": [
      "처음부터 5번 요소까지 [0 1 2 3 4]\n5번 요소부터 [5 6 7 8 9]\n4번부터 8번 요소부터 [4 5 6 7 8]\n짝수 요소마다 [0]\n2번 부터 짝수 요소 마다 [2 4 6 8]\n역순으로 [9 8 7 6 5 4 3 2 1 0]\n5번 요소부터 역순으로 [5 4 3 2 1 0]\n"
     ]
    }
   ],
   "source": [
    "i = np.arange(10)   # 0 - 9  정수 배열\n",
    "print('처음부터 5번 요소까지', i[:5])\n",
    "print('5번 요소부터', i[5:])\n",
    "print('4번부터 8번 요소부터', i[4:9])\n",
    "print('짝수 요소마다', i[:1:2])\n",
    "print('2번 부터 짝수 요소 마다', i[2::2])\n",
    "print('역순으로', i[::-1])\n",
    "print('5번 요소부터 역순으로', i[5::-1])\n"
   ]
  },
  {
   "cell_type": "code",
   "execution_count": 103,
   "metadata": {},
   "outputs": [
    {
     "name": "stdout",
     "output_type": "stream",
     "text": [
      "3x4 배열 [[12  5  2  4]\n [ 7  6  8  3]\n [ 1  6  7  9]]\n2행 3열 배열 [[12  5  2]\n [ 7  6  8]]\n3행 2열 배열 [[12  5]\n [ 7  6]\n [ 1  6]]\n행기준 역순 출력 [[ 1  6  7  9]\n [ 7  6  8  3]\n [12  5  2  4]]\n열기준 역순 출력 [[ 4  2  5 12]\n [ 3  8  6  7]\n [ 9  7  6  1]]\n역순 출력 [[ 9  7  6  1]\n [ 3  8  6  7]\n [ 4  2  5 12]]\n2열만 출력 [5 6 6]\n2행만 출력 [7 6 8 3]\n"
     ]
    }
   ],
   "source": [
    "j = np.array([[12,5,2,4],[7,6,8,3],[1,6,7,9]])\n",
    "\n",
    "print('3x4 배열', j)\n",
    "print('2행 3열 배열', j[:2,:3])\n",
    "print('3행 2열 배열', j[:3,:2])\n",
    "print('행기준 역순 출력', j[::-1,:])\n",
    "print('열기준 역순 출력', j[:,::-1])\n",
    "print('역순 출력', j[::-1,::-1])\n",
    "print('2열만 출력', j[:,1])\n",
    "print('2행만 출력', j[1,:])"
   ]
  }
 ],
 "metadata": {
  "kernelspec": {
   "display_name": "Python 2",
   "language": "python",
   "name": "python2"
  },
  "language_info": {
   "codemirror_mode": {
    "name": "ipython",
    "version": 2
   },
   "file_extension": ".py",
   "mimetype": "text/x-python",
   "name": "python",
   "nbconvert_exporter": "python",
   "pygments_lexer": "ipython2",
   "version": "2.7.6"
  }
 },
 "nbformat": 4,
 "nbformat_minor": 0
}
