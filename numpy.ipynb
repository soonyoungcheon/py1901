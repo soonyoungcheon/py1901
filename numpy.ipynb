{
 "cells": [
  {
   "cell_type": "code",
   "execution_count": 2,
   "metadata": {
    "collapsed": true
   },
   "outputs": [
    {
     "name": "stdout",
     "output_type": "stream",
     "text": [
      "<class 'list'> <class 'list'> <class 'list'>\n"
     ]
    }
   ],
   "source": [
    "# 파이선이 제공하는 우용한 자료구조들 중 리스트와 딕셔너리가 여러가지 응용분야에서 많이 활용되는 핵심요소임\n",
    "# 하지만, 과학기술이나 금융분야에서는 더 빠른 연산이 가능한 특별한 자료 구조 필요\n",
    "# 즉, 선형대수나 벡터공간이론 등 수학이론에 사용되는 배열(행/열로 구성) 자료가 필요 \n",
    "# n차원의 배열을 쉬고 효율적으로 고성능으로 다루기 위한 목적으로 만들어 짐\n",
    "# 특히, 디지털 이미지는 해당 영역에 대한 픽셀 정보를 2차원 배열로 인식해서 처리할 수 있음\n",
    "# 데이터가 무엇이든 상관없이 그 데이터를 분석하려면 먼저 숫자배열로 변환하는 것이 우선되어야 함\n",
    "# n차원 배열\n",
    "# 파이썬의 리스트와는 달리 numpy 배열은 같은 종류의 데이터만 저장 가능\n",
    "import numpy as np\n",
    "\n",
    "# 파이썬 리스트\n",
    "a = list([1,2,3,4,5])   # 숫자\n",
    "b = list(['a','b','c','d','e'])  # 문자\n",
    "c = list([0.1,'b', 'c', 1,2])  # 문자&숫자\n",
    "\n",
    "print(type(a), type(b), type(c))"
   ]
  },
  {
   "cell_type": "code",
   "execution_count": 3,
   "metadata": {},
   "outputs": [
    {
     "name": "stdout",
     "output_type": "stream",
     "text": [
      "<class 'list'> <class 'list'> <class 'list'>\n<class 'int'> <class 'str'> <class 'float'>\n"
     ]
    }
   ],
   "source": [
    "print(type(a), type(b), type(c))\n",
    "print(type(a[0]),type(b[0]),type(c[0]))"
   ]
  },
  {
   "cell_type": "code",
   "execution_count": 13,
   "metadata": {},
   "outputs": [
    {
     "name": "stdout",
     "output_type": "stream",
     "text": [
      "<class 'numpy.ndarray'> <class 'numpy.ndarray'> <class 'numpy.ndarray'>\n"
     ]
    }
   ],
   "source": [
    "# numpy 배열\n",
    "# np.array(배열대상값들)\n",
    "d = np.array([1,2,3,4,5])\n",
    "e = np.array(['a','b','c','d','e'])  # 문자\n",
    "f = np.array([0.1,'b', 'c', 1,2])  # 문자&숫자\n",
    "\n",
    "print(type(d),type(e),type(f))"
   ]
  },
  {
   "cell_type": "code",
   "execution_count": 15,
   "metadata": {},
   "outputs": [
    {
     "name": "stdout",
     "output_type": "stream",
     "text": [
      "<class 'numpy.int32'> <class 'numpy.str_'> <class 'numpy.str_'>\n"
     ]
    }
   ],
   "source": [
    "print(type(d[0]),type(e[0]),type(f[0]))"
   ]
  },
  {
   "cell_type": "code",
   "execution_count": 18,
   "metadata": {},
   "outputs": [
    {
     "name": "stdout",
     "output_type": "stream",
     "text": [
      "(5,)\n1\n"
     ]
    }
   ],
   "source": [
    "print(d.shape)  # 배열의 요소 수\n",
    "print(d.ndim)   # 배열의 차원수"
   ]
  },
  {
   "cell_type": "code",
   "execution_count": 27,
   "metadata": {},
   "outputs": [
    {
     "name": "stdout",
     "output_type": "stream",
     "text": [
      "(3, 3)\n2\n"
     ]
    }
   ],
   "source": [
    "g = np.array([[1,2,3],[4,5,6],[7,8,9]])\n",
    "\n",
    "print(g.shape)\n",
    "print(g.ndim)"
   ]
  },
  {
   "cell_type": "code",
   "execution_count": 30,
   "metadata": {},
   "outputs": [
    {
     "name": "stdout",
     "output_type": "stream",
     "text": [
      "(2, 2, 2)\n3\n"
     ]
    }
   ],
   "source": [
    "h = np.array([[[1,2],[3,4]],[[5,6],[7,8]]])\n",
    "\n",
    "print(h.shape)\n",
    "print(h.ndim)"
   ]
  },
  {
   "cell_type": "code",
   "execution_count": 32,
   "metadata": {},
   "outputs": [
    {
     "name": "stdout",
     "output_type": "stream",
     "text": [
      "배열 개별 요소: 1 3 5\n배열 부분요소1: [1 2 3]\n배열 부분요소2: [1 2 3]\n배열 전체요소: [1 2 3 4 5]\n차원 정보 2\n요소 수 (3, 3)\n총 요소 수  9\n요소 자료형 int32\n각 요소 자료크기 4\n총 요소 자료크기 36\n"
     ]
    }
   ],
   "source": [
    "# 배열 요소에 접근하기\n",
    "print('배열 개별 요소:', d[0], d[2], d[4])\n",
    "print('배열 부분요소1:', d[:3])   # 마지막 요소 제외\n",
    "print('배열 부분요소2:', d[:3])\n",
    "print('배열 전체요소:', d[:])\n",
    "\n",
    "# 배열 세부 정보 확인\n",
    "print('차원 정보', g.ndim)\n",
    "print('요소 수', g.shape)\n",
    "print('총 요소 수 ', g.size)\n",
    "print('요소 자료형', g.dtype)\n",
    "print('각 요소 자료크기', g.itemsize)\n",
    "print('총 요소 자료크기', g.nbytes)"
   ]
  },
  {
   "cell_type": "code",
   "execution_count": 42,
   "metadata": {},
   "outputs": [
    {
     "name": "stdout",
     "output_type": "stream",
     "text": [
      "3\n"
     ]
    }
   ],
   "source": [
    "# 난수를 이용한 numpy 배열 생성\n",
    "# np.random.seed(181214)\n",
    "print(np.random.randint(10))  # 0 ~ 4 사이 난수"
   ]
  },
  {
   "cell_type": "code",
   "execution_count": 45,
   "metadata": {},
   "outputs": [
    {
     "name": "stdout",
     "output_type": "stream",
     "text": [
      "x1 [7 7 3 4 2 1] x2 [[2 3 5 9]\n [0 2 0 6]\n [4 1 4 9]] x3 [[[0 2 2 5 1]\n  [9 4 5 5 9]\n  [9 0 1 8 2]\n  [4 6 9 0 6]]\n\n [[1 6 0 2 6]\n  [8 0 8 2 2]\n  [0 4 6 1 6]\n  [5 0 0 3 3]]\n\n [[6 8 1 3 5]\n  [8 3 3 2 9]\n  [7 6 4 2 8]\n  [3 1 6 0 5]]]\n"
     ]
    }
   ],
   "source": [
    "x1 = np.random.randint(10, size=6)\n",
    "x2 = np.random.randint(10, size=(3,4))   # 2차원\n",
    "x3 = np.random.randint(10, size=(3,4,5))  # 3차원\n",
    "\n",
    "print('x1',x1,'x2',x2,'x3',x3)"
   ]
  },
  {
   "cell_type": "code",
   "execution_count": 47,
   "metadata": {},
   "outputs": [
    {
     "name": "stdout",
     "output_type": "stream",
     "text": [
      "[43  7 27 34 34 14]\n"
     ]
    }
   ],
   "source": [
    "# 1-45 범위 난수 6개 생성(중복 불가)\n",
    "x4 = np.random.randint(1,45,size=6)\n",
    "print(x4)"
   ]
  },
  {
   "cell_type": "code",
   "execution_count": 91,
   "metadata": {},
   "outputs": [
    {
     "name": "stdout",
     "output_type": "stream",
     "text": [
      "[7 6 3 2 1 5]\n"
     ]
    }
   ],
   "source": [
    "# 1-45 범위 난수 6개 생성(중복 불가)\n",
    "# np.unique() : 중복 제거 함수\n",
    "x6 = np.random.choice(7, 6, replace=False)+1\n",
    "print(x6)"
   ]
  },
  {
   "cell_type": "code",
   "execution_count": 50,
   "metadata": {},
   "outputs": [
    {
     "name": "stdout",
     "output_type": "stream",
     "text": [
      "[ 7 14 27 34 43]\n"
     ]
    }
   ],
   "source": [
    "# 1-45 범위 난수 6개 생성(중복 불가)\n",
    "# np.unique() : 중복 제거 함수\n",
    "x5 = np.unique(x4)\n",
    "print(x5)"
   ]
  },
  {
   "cell_type": "code",
   "execution_count": 92,
   "metadata": {},
   "outputs": [
    {
     "name": "stdout",
     "output_type": "stream",
     "text": [
      "배열의 첫요소 a\n배열의 마지막요소1 e\n배열의 마지막요소2 e\n"
     ]
    }
   ],
   "source": [
    "# 배열 슬라이싱 하기 : [시작: 끝: 스텝]\n",
    "print('배열의 첫요소',e[0])\n",
    "print('배열의 마지막요소1',e[-1])\n",
    "print('배열의 마지막요소2',e[len(e)-1])"
   ]
  },
  {
   "cell_type": "code",
   "execution_count": 95,
   "metadata": {
    "collapsed": true
   },
   "outputs": [
    {
     "name": "stdout",
     "output_type": "stream",
     "text": [
      "처음부터 5번 요소까지 [0 1 2 3 4]\n5번 요소부터 [5 6 7 8 9]\n4번부터 8번 요소부터 [4 5 6 7 8]\n짝수 요소마다 [0]\n2번 부터 짝수 요소 마다 [2 4 6 8]\n역순으로 [9 8 7 6 5 4 3 2 1 0]\n5번 요소부터 역순으로 [5 4 3 2 1 0]\n"
     ]
    }
   ],
   "source": [
    "i = np.arange(10)   # 0 - 9  정수 배열\n",
    "print('처음부터 5번 요소까지', i[:5])\n",
    "print('5번 요소부터', i[5:])\n",
    "print('4번부터 8번 요소부터', i[4:9])\n",
    "print('짝수 요소마다', i[:1:2])\n",
    "print('2번 부터 짝수 요소 마다', i[2::2])\n",
    "print('역순으로', i[::-1])\n",
    "print('5번 요소부터 역순으로', i[5::-1])\n"
   ]
  },
  {
   "cell_type": "code",
   "execution_count": 103,
   "metadata": {},
   "outputs": [
    {
     "name": "stdout",
     "output_type": "stream",
     "text": [
      "3x4 배열 [[12  5  2  4]\n [ 7  6  8  3]\n [ 1  6  7  9]]\n2행 3열 배열 [[12  5  2]\n [ 7  6  8]]\n3행 2열 배열 [[12  5]\n [ 7  6]\n [ 1  6]]\n행기준 역순 출력 [[ 1  6  7  9]\n [ 7  6  8  3]\n [12  5  2  4]]\n열기준 역순 출력 [[ 4  2  5 12]\n [ 3  8  6  7]\n [ 9  7  6  1]]\n역순 출력 [[ 9  7  6  1]\n [ 3  8  6  7]\n [ 4  2  5 12]]\n2열만 출력 [5 6 6]\n2행만 출력 [7 6 8 3]\n"
     ]
    }
   ],
   "source": [
    "j = np.array([[12,5,2,4],[7,6,8,3],[1,6,7,9]])\n",
    "\n",
    "print('3x4 배열', j)\n",
    "print('2행 3열 배열', j[:2,:3])\n",
    "print('3행 2열 배열', j[:3,:2])\n",
    "print('행기준 역순 출력', j[::-1,:])\n",
    "print('열기준 역순 출력', j[:,::-1])\n",
    "print('역순 출력', j[::-1,::-1])\n",
    "print('2열만 출력', j[:,1])\n",
    "print('2행만 출력', j[1,:])"
   ]
  },
  {
   "cell_type": "code",
   "execution_count": null,
   "metadata": {},
   "outputs": [],
   "source": [
    "# 1차원은 벡터 vector\n",
    "# 2차원은 행렬 matrix\n",
    "# 3차원은 텐서 tensor\n",
    "# 배열을 부분적으로 slice한 결과는 원본 배열의 복사본이 아니고 참조본임\n",
    "# sql의 뷰와 유사한 개념\n",
    "# 따라서, 참조본을 수정하면 원본에도 영향을 미침"
   ]
  },
  {
   "cell_type": "code",
   "execution_count": 3,
   "metadata": {},
   "outputs": [
    {
     "name": "stdout",
     "output_type": "stream",
     "text": [
      "원본 [1 2 3 4 5]\n"
     ]
    }
   ],
   "source": [
    "k = np.array([1,2,3,4,5])\n",
    "print('원본',k)"
   ]
  },
  {
   "cell_type": "code",
   "execution_count": 4,
   "metadata": {},
   "outputs": [
    {
     "name": "stdout",
     "output_type": "stream",
     "text": [
      "추출한 참조본 [2 3]\n"
     ]
    }
   ],
   "source": [
    "k_sub = k[1:3]\n",
    "print('추출한 참조본', k_sub)"
   ]
  },
  {
   "cell_type": "code",
   "execution_count": 6,
   "metadata": {},
   "outputs": [
    {
     "name": "stdout",
     "output_type": "stream",
     "text": [
      "수정된 참조본 [100 200]\n원본 [  1 100 200   4   5]\n"
     ]
    }
   ],
   "source": [
    "k_sub[0] =100\n",
    "k_sub[1] =200\n",
    "print('수정된 참조본', k_sub)\n",
    "print('원본',k)"
   ]
  },
  {
   "cell_type": "code",
   "execution_count": 12,
   "metadata": {},
   "outputs": [
    {
     "name": "stdout",
     "output_type": "stream",
     "text": [
      "합 15 45\n표준편차 2.581988897471611\n평균 5.0\n중앙값 5.0\n분산 6.666666666666667\n최대값 9\n최소값 1\n곱연산 [ 2  4  6  8 10 12 14 16 18]\n제곱연산 [ 1  4  9 16 25 36 49 64 81]\n제곱근 [1.         1.41421356 1.73205081 2.         2.23606798 2.44948974\n 2.64575131 2.82842712 3.        ]\n열 합계 [12 15 18]\n행 합계 [ 6 15 24]\n"
     ]
    }
   ],
   "source": [
    "# 유니버셜 함수 - numpy 제공하는 범용 함수\n",
    "l = np.array(range(1,10))\n",
    "print('합', np.sum(a), l.sum())\n",
    "print('표준편차', np.std(l))\n",
    "print('평균', np.mean(l))\n",
    "print('중앙값', np.median(l))\n",
    "print('분산', np.var(l))\n",
    "#print('누적합',camsum(l))\n",
    "print('최대값', np.max(l))\n",
    "print('최소값', np.min(l))\n",
    "print('곱연산', l*2)\n",
    "print('제곱연산',l**2)\n",
    "print('제곱근', np.sqrt(l))\n",
    "\n",
    "m = np.array(([[1,2,3],[4,5,6],[7,8,9]]))\n",
    "print('열 합계', m.sum(axis=0))\n",
    "print('행 합계', m.sum(axis=1))\n",
    "\n"
   ]
  },
  {
   "cell_type": "code",
   "execution_count": 15,
   "metadata": {},
   "outputs": [
    {
     "name": "stdout",
     "output_type": "stream",
     "text": [
      "원소가 0인 3x3 행렬 [[0. 0. 0.]\n [0. 0. 0.]\n [0. 0. 0.]]\n원소가 1인 1x5 백터 [1. 1. 1. 1. 1.]\n원소가 0부터 4까지인 1x5 백터 [0 1 2 3 4]\n"
     ]
    }
   ],
   "source": [
    "# 배열 객체 채우기\n",
    "# 원소의 값이 없는 배열을 만들고 실행 중에 각 원소에 값을 하나씩 채우는 방법\n",
    "o = np.zeros((3,3))\n",
    "print('원소가 0인 3x3 행렬', o)\n",
    "p = np.ones(5)\n",
    "print('원소가 1인 1x5 백터', p)\n",
    "q = np.arange(5)\n",
    "print('원소가 0부터 4까지인 1x5 백터',q)"
   ]
  },
  {
   "cell_type": "code",
   "execution_count": 17,
   "metadata": {},
   "outputs": [
    {
     "name": "stdout",
     "output_type": "stream",
     "text": [
      "bool 값 인덱싱 [1 3 4 6 7 9]\n"
     ]
    }
   ],
   "source": [
    "# boolean indexing\n",
    "# 배열의 원소를 가리키기 위해 정수 인덱스를 사용했음\n",
    "# 한편, bool값을  이용한 인덱싱도 가능\n",
    "bool = [[True, False, True],[True, False, True],[True, False, True]]\n",
    "ba = np.array(bool)\n",
    "print('bool 값 인덱싱', m[ba])"
   ]
  },
  {
   "cell_type": "code",
   "execution_count": 20,
   "metadata": {},
   "outputs": [
    {
     "name": "stdout",
     "output_type": "stream",
     "text": [
      "스키마가 정의된 배열 [(b'smith', 30, 175.1) (b'darwin', 10, 120. )]\n이름만 출력 [b'smith' b'darwin']\ndarwin의 나이 출력 10\n"
     ]
    }
   ],
   "source": [
    "# 구조하 배열 - 데이터베이스 테이블 생성과 유사\n",
    "# 즉, 각 열마다 다른 자료형을 사용할 수 있게 해줌\n",
    "schema = np.dtype([('name','S10'),('age','i4'),('height','f')])\n",
    "# S 아스키코드\n",
    "data = np.array([('smith', 30, 175.1),('darwin', 10, 120)], dtype=schema)\n",
    "print('스키마가 정의된 배열', data)\n",
    "print('이름만 출력', data['name'])\n",
    "print('darwin의 나이 출력', data[1]['age'])"
   ]
  },
  {
   "cell_type": "code",
   "execution_count": 21,
   "metadata": {},
   "outputs": [
    {
     "ename": "TypeError",
     "evalue": "data type not understood",
     "traceback": [
      "\u001b[0;31m---------------------------------------------------------------------------\u001b[0m",
      "\u001b[0;31mTypeError\u001b[0m                                 Traceback (most recent call last)",
      "\u001b[0;32m<ipython-input-21-0ddffe00a0a2>\u001b[0m in \u001b[0;36m<module>\u001b[0;34m()\u001b[0m\n\u001b[0;32m----> 1\u001b[0;31m \u001b[0mschema\u001b[0m \u001b[0;34m=\u001b[0m \u001b[0mnp\u001b[0m\u001b[0;34m.\u001b[0m\u001b[0mdtype\u001b[0m\u001b[0;34m(\u001b[0m\u001b[0;34m[\u001b[0m\u001b[0;34m'name'\u001b[0m\u001b[0;34m,\u001b[0m\u001b[0;34m'U10'\u001b[0m\u001b[0;34m]\u001b[0m\u001b[0;34m)\u001b[0m  \u001b[0;31m# 한글은 unicode로 설정\u001b[0m\u001b[0;34m\u001b[0m\u001b[0m\n\u001b[0m\u001b[1;32m      2\u001b[0m \u001b[0;31m# U 유니코드\u001b[0m\u001b[0;34m\u001b[0m\u001b[0;34m\u001b[0m\u001b[0m\n\u001b[1;32m      3\u001b[0m \u001b[0mdata\u001b[0m \u001b[0;34m=\u001b[0m \u001b[0mnp\u001b[0m\u001b[0;34m.\u001b[0m\u001b[0marray\u001b[0m\u001b[0;34m(\u001b[0m\u001b[0;34m[\u001b[0m\u001b[0;34m(\u001b[0m\u001b[0;34m'혜교'\u001b[0m\u001b[0;34m)\u001b[0m\u001b[0;34m,\u001b[0m\u001b[0;34m(\u001b[0m\u001b[0;34m'지현'\u001b[0m\u001b[0;34m)\u001b[0m\u001b[0;34m,\u001b[0m\u001b[0;34m(\u001b[0m\u001b[0;34m'수지'\u001b[0m\u001b[0;34m)\u001b[0m\u001b[0;34m]\u001b[0m\u001b[0;34m,\u001b[0m \u001b[0mdtype\u001b[0m\u001b[0;34m=\u001b[0m \u001b[0mschema\u001b[0m\u001b[0;34m)\u001b[0m\u001b[0;34m\u001b[0m\u001b[0m\n\u001b[1;32m      4\u001b[0m \u001b[0mprint\u001b[0m\u001b[0;34m(\u001b[0m\u001b[0mdata\u001b[0m\u001b[0;34m)\u001b[0m\u001b[0;34m\u001b[0m\u001b[0m\n",
      "\u001b[0;31mTypeError\u001b[0m: data type not understood"
     ],
     "output_type": "error"
    }
   ],
   "source": [
    "schema = np.dtype(['name','U10'])  # 한글은 unicode로 설정\n",
    "# U 유니코드\n",
    "data = np.array([('혜교'),('지현'),('수지')], dtype= schema)\n",
    "print(data)"
   ]
  },
  {
   "cell_type": "code",
   "execution_count": 33,
   "metadata": {},
   "outputs": [
    {
     "name": "stdout",
     "output_type": "stream",
     "text": [
      "[('alice', 25,  55.5) ('bob', 45,  85.2) ('cathy', 37,  61.3)\n ('doug', 19,  61.5) ('hue', 65, 110.9)]\n1행만 출력 ('alice', 25, 55.5)\n이름만 출력 ['alice' 'bob' 'cathy' 'doug' 'hue']\n나이가 30보다 작은 사람만 출력 [ True False False  True False]\n나이가 30보다 작은 사람의 이름 출력 ['alice' 'doug']\n"
     ]
    }
   ],
   "source": [
    "# 개인정보가 저장된 벡터를 이용해서\n",
    "# 구조화 배열 생성하기\n",
    "name = ['alice', 'bob', 'cathy', 'doug', 'hue']\n",
    "age = [25,45,37,19,65]\n",
    "weight = [55.5, 85.2, 61.3, 61.5, 110.9]\n",
    "schema = {'names':('name','age', 'weight'), 'formats':('U10', 'i4','f4')}\n",
    "personal = np.zeros(5, dtype=schema)\n",
    "personal['name'] = name\n",
    "personal['age'] = age\n",
    "personal['weight'] = weight\n",
    "print(personal)\n",
    "print('1행만 출력', personal[0])\n",
    "print('이름만 출력', personal['name'])\n",
    "print('나이가 30보다 작은 사람만 출력', personal['age']< 30 )\n",
    "print('나이가 30보다 작은 사람의 이름 출력', personal[personal['age']<30]['name'])"
   ]
  },
  {
   "cell_type": "code",
   "execution_count": null,
   "metadata": {},
   "outputs": [],
   "source": [
    "# 배열의 크기/구조 변형 - reshape\n",
    "# 만들어진 배열의 데이터는 유지하면서 형태를 변경\n",
    "\n",
    "\n"
   ]
  },
  {
   "cell_type": "code",
   "execution_count": null,
   "metadata": {},
   "outputs": [],
   "source": [
    "\n",
    "origin = np.array([(1,1,1,1),(2,2,2,2),(3,3,3,3)])\n",
    "print('3x4 행렬', origin)"
   ]
  },
  {
   "cell_type": "code",
   "execution_count": 38,
   "metadata": {},
   "outputs": [
    {
     "name": "stdout",
     "output_type": "stream",
     "text": [
      "6x2 행렬\n [[1 1]\n [1 1]\n [2 2]\n [2 2]\n [3 3]\n [3 3]]\n"
     ]
    }
   ],
   "source": [
    "# 3x4 행렬을 6x2 행렬로 변환\n",
    "transform = origin.reshape(6,2)\n",
    "print('6x2 행렬\\n',transform) "
   ]
  },
  {
   "cell_type": "code",
   "execution_count": 39,
   "metadata": {},
   "outputs": [
    {
     "name": "stdout",
     "output_type": "stream",
     "text": [
      "2x6 행렬\n [[1 1 1 1 2 2]\n [2 2 3 3 3 3]]\n"
     ]
    }
   ],
   "source": [
    "# 3x4 행렬을 2x6 행렬로 변환\n",
    "transform = origin.reshape(2,6)\n",
    "print('2x6 행렬\\n',transform) "
   ]
  },
  {
   "cell_type": "code",
   "execution_count": 45,
   "metadata": {},
   "outputs": [
    {
     "name": "stdout",
     "output_type": "stream",
     "text": [
      "4x3 행렬\n [[1 1 1]\n [1 2 2]\n [2 2 3]\n [3 3 3]]\n"
     ]
    }
   ],
   "source": [
    "# 3x4 행렬을 4x3행렬로 변환\n",
    "transform = origin.reshape(4,3)\n",
    "print('4x3 행렬\\n',transform) "
   ]
  },
  {
   "cell_type": "code",
   "execution_count": 44,
   "metadata": {},
   "outputs": [
    {
     "name": "stdout",
     "output_type": "stream",
     "text": [
      "12x1 행렬\n [[1]\n [1]\n [1]\n [1]\n [2]\n [2]\n [2]\n [2]\n [3]\n [3]\n [3]\n [3]]\n"
     ]
    }
   ],
   "source": [
    "# 3x4 행렬을 12x1 행렬로 변환\n",
    "transform = origin.reshape(12,1)\n",
    "print('12x1 행렬\\n',transform) "
   ]
  },
  {
   "cell_type": "code",
   "execution_count": 43,
   "metadata": {},
   "outputs": [
    {
     "name": "stdout",
     "output_type": "stream",
     "text": [
      "1x12 행렬\n [[1 1 1 1 2 2 2 2 3 3 3 3]]\n"
     ]
    }
   ],
   "source": [
    "# 3x4 행렬을 1x12 행렬로 변환\n",
    "transform = origin.reshape(1,12)\n",
    "print('1x12 행렬\\n',transform) "
   ]
  },
  {
   "cell_type": "code",
   "execution_count": 51,
   "metadata": {},
   "outputs": [
    {
     "name": "stdout",
     "output_type": "stream",
     "text": [
      "1x12 행렬\n [[ 0  1  2  3  4  5  6  7  8  9 10 11]]\n"
     ]
    }
   ],
   "source": [
    "origin = np.arange(12)\n",
    "#1x12벡터를 3x4 행렬로 변환\n",
    "transform = origin.reshape(1,12)\n",
    "print('1x12 행렬\\n', transform)"
   ]
  },
  {
   "cell_type": "code",
   "execution_count": 52,
   "metadata": {},
   "outputs": [
    {
     "ename": "ValueError",
     "evalue": "cannot reshape array of size 12 into shape (3,5)",
     "traceback": [
      "\u001b[0;31m---------------------------------------------------------------------------\u001b[0m",
      "\u001b[0;31mValueError\u001b[0m                                Traceback (most recent call last)",
      "\u001b[0;32m<ipython-input-52-2a4b412629b8>\u001b[0m in \u001b[0;36m<module>\u001b[0;34m()\u001b[0m\n\u001b[1;32m      1\u001b[0m \u001b[0;31m# 1x12 벡터를 3x5 행렬로 변환가능?\u001b[0m\u001b[0;34m\u001b[0m\u001b[0;34m\u001b[0m\u001b[0m\n\u001b[0;32m----> 2\u001b[0;31m \u001b[0mtransform\u001b[0m \u001b[0;34m=\u001b[0m \u001b[0morigin\u001b[0m\u001b[0;34m.\u001b[0m\u001b[0mreshape\u001b[0m\u001b[0;34m(\u001b[0m\u001b[0;36m3\u001b[0m\u001b[0;34m,\u001b[0m\u001b[0;36m5\u001b[0m\u001b[0;34m)\u001b[0m\u001b[0;34m\u001b[0m\u001b[0m\n\u001b[0m\u001b[1;32m      3\u001b[0m \u001b[0mprint\u001b[0m\u001b[0;34m(\u001b[0m\u001b[0mtransform\u001b[0m\u001b[0;34m)\u001b[0m\u001b[0;34m\u001b[0m\u001b[0m\n\u001b[1;32m      4\u001b[0m \u001b[0;31m# 12개 요소를 가진 벡터를 15개 요소의 행렬로 변환 불가!\u001b[0m\u001b[0;34m\u001b[0m\u001b[0;34m\u001b[0m\u001b[0m\n",
      "\u001b[0;31mValueError\u001b[0m: cannot reshape array of size 12 into shape (3,5)"
     ],
     "output_type": "error"
    }
   ],
   "source": [
    "# 1x12 벡터를 3x5 행렬로 변환가능?\n",
    "transform = origin.reshape(3,5)\n",
    "print(transform)\n",
    "# 12개 요소를 가진 벡터를 15개 요소의 행렬로 변환 불가!"
   ]
  },
  {
   "cell_type": "code",
   "execution_count": 53,
   "metadata": {},
   "outputs": [
    {
     "ename": "ValueError",
     "evalue": "cannot reshape array of size 12 into shape (2,5)",
     "traceback": [
      "\u001b[0;31m---------------------------------------------------------------------------\u001b[0m",
      "\u001b[0;31mValueError\u001b[0m                                Traceback (most recent call last)",
      "\u001b[0;32m<ipython-input-53-12bcd23177dd>\u001b[0m in \u001b[0;36m<module>\u001b[0;34m()\u001b[0m\n\u001b[1;32m      1\u001b[0m \u001b[0;31m# 1x12 벡터를 2x5 행렬로 변환가능?\u001b[0m\u001b[0;34m\u001b[0m\u001b[0;34m\u001b[0m\u001b[0m\n\u001b[0;32m----> 2\u001b[0;31m \u001b[0mtransform\u001b[0m \u001b[0;34m=\u001b[0m \u001b[0morigin\u001b[0m\u001b[0;34m.\u001b[0m\u001b[0mreshape\u001b[0m\u001b[0;34m(\u001b[0m\u001b[0;36m2\u001b[0m\u001b[0;34m,\u001b[0m\u001b[0;36m5\u001b[0m\u001b[0;34m)\u001b[0m\u001b[0;34m\u001b[0m\u001b[0m\n\u001b[0m\u001b[1;32m      3\u001b[0m \u001b[0mprint\u001b[0m\u001b[0;34m(\u001b[0m\u001b[0mtransform\u001b[0m\u001b[0;34m)\u001b[0m\u001b[0;34m\u001b[0m\u001b[0m\n\u001b[1;32m      4\u001b[0m \u001b[0;31m# 12개 요소를 가진 벡터를 10개 요소의 행렬로 변환 불가!\u001b[0m\u001b[0;34m\u001b[0m\u001b[0;34m\u001b[0m\u001b[0m\n",
      "\u001b[0;31mValueError\u001b[0m: cannot reshape array of size 12 into shape (2,5)"
     ],
     "output_type": "error"
    }
   ],
   "source": [
    "# 1x12 벡터를 2x5 행렬로 변환가능?\n",
    "transform = origin.reshape(2,5)\n",
    "print(transform)\n",
    "# 12개 요소를 가진 벡터를 10개 요소의 행렬로 변환 불가!"
   ]
  },
  {
   "cell_type": "code",
   "execution_count": 57,
   "metadata": {},
   "outputs": [
    {
     "name": "stdout",
     "output_type": "stream",
     "text": [
      "3x5행렬\n [[ 1  2  3  4  5]\n [ 6  7  8  9 10]\n [11 12 13 14 15]]\n전치 5x3 행렬\n [[ 1  6 11]\n [ 2  7 12]\n [ 3  8 13]\n [ 4  9 14]\n [ 5 10 15]]\n전치 5x3 행렬\n [[ 1  6 11]\n [ 2  7 12]\n [ 3  8 13]\n [ 4  9 14]\n [ 5 10 15]]\n"
     ]
    }
   ],
   "source": [
    "# 전치 transpose 행렬 - 행렬의 츅을 바꿈\n",
    "origin = np.arange(1,16)\n",
    "transform = origin.reshape(3,5)\n",
    "print('3x5행렬\\n', transform)\n",
    "transform = origin.reshape(3,5).T\n",
    "print('전치 5x3 행렬\\n', transform)\n",
    "transform = np.transpose(origin.reshape(3,5))\n",
    "print('전치 5x3 행렬\\n', transform)"
   ]
  },
  {
   "cell_type": "code",
   "execution_count": 63,
   "metadata": {},
   "outputs": [
    {
     "name": "stdout",
     "output_type": "stream",
     "text": [
      "(m x n ) + (m x n )\n [[ 0  1  2]\n [10 11 12]\n [20 21 22]\n [30 31 32]]\n(m x n ) + (1 x n)\n [[ 0  1  2]\n [10 11 12]\n [20 21 22]\n [30 31 32]]\n(m x n ) + (1 x n )\n [[ 0  0  0]\n [20 20 20]\n [40 40 40]\n [60 60 60]]\n(m x 1 ) + (1 x n  )\n [[ 0  1  2]\n [10 11 12]\n [20 21 22]\n [30 31 32]]\n"
     ]
    }
   ],
   "source": [
    "# broadcasting\n",
    "# 각 행렬의 크기는 서로 같아야 함\n",
    "# 한편, numpy 에서는 서로 다른 크기를 가진 \n",
    "# 이때, 크기가 작은 행렬을 자동으로 확장해서 행렬의 크기를 맞춰 주기 떄문에\n",
    "# 파이썬의 리스트와 확연히 구분되는 기능\n",
    "# 브로드캐스팅 연산 가능한 3가지 경우\n",
    "# m x n 배열과 m x 1 배열\n",
    "# m x n 배열과 1 x n 배열\n",
    "# m X 1 배열과 1 x n 배열\n",
    "a= np.array([[0,0,0],[10,10,10],[20,20,20],[30,30,30]])\n",
    "b= np.array([[0,1,2],[0,1,2],[0,1,2],[0,1,2]])\n",
    "c= np.array([0,1,2])\n",
    "d= np.array([[0],[10],[20],[30]])\n",
    "\n",
    "# print('a\\n', a)\n",
    "# print('b\\n', b)\n",
    "# print('c\\n', c)\n",
    "# print('d\\n', d)\n",
    "\n",
    "# (m x n ) + (m x n )\n",
    "e = a + b\n",
    "print('(m x n ) + (m x n )\\n', e)\n",
    "\n",
    "# (m x n ) + (1 x n )\n",
    "e = a + c\n",
    "print('(m x n ) + (1 x n)\\n', e)\n",
    "\n",
    "# (m x n ) + (1 x n  )\n",
    "e = a + d\n",
    "print('(m x n ) + (1 x n )\\n', e)\n",
    "\n",
    "# (m x 1 ) + (1 x n )\n",
    "e = c + d\n",
    "print('(m x 1 ) + (1 x n  )\\n', e)\n",
    "\n"
   ]
  },
  {
   "cell_type": "code",
   "execution_count": null,
   "metadata": {},
   "outputs": [],
   "source": []
  },
  {
   "cell_type": "code",
   "execution_count": null,
   "metadata": {},
   "outputs": [],
   "source": []
  },
  {
   "cell_type": "code",
   "execution_count": null,
   "metadata": {},
   "outputs": [],
   "source": []
  }
 ],
 "metadata": {
  "kernelspec": {
   "display_name": "Python 2",
   "language": "python",
   "name": "python2"
  },
  "language_info": {
   "codemirror_mode": {
    "name": "ipython",
    "version": 2
   },
   "file_extension": ".py",
   "mimetype": "text/x-python",
   "name": "python",
   "nbconvert_exporter": "python",
   "pygments_lexer": "ipython2",
   "version": "2.7.6"
  }
 },
 "nbformat": 4,
 "nbformat_minor": 0
}
