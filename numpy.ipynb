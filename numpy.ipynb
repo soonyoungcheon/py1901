{
 "cells": [
  {
   "cell_type": "code",
   "execution_count": 9,
   "metadata": {
    "collapsed": true
   },
   "outputs": [
    {
     "name": "stdout",
     "output_type": "stream",
     "text": [
      "<class 'list'> <class 'list'> <class 'list'>\n"
     ]
    }
   ],
   "source": [
    "# 파이선이 제공하는 우용한 자료구조들 중 리스트와 딕셔너리가 여러가지 응용분야에서 많이 활용되는 핵심요소임\n",
    "# 하지만, 과학기술이나 금융분야에서는 더 빠른 연산이 가능한 특별한 자료 구조 필요\n",
    "# 즉, 선형대수나 벡터공간이론 등 수학이론에 사용되는 배열(행/열로 구성) 자료가 필요 \n",
    "# n차원의 배열을 쉬고 효율적으로 고성능으로 다루기 위한 목적으로 만들어 짐\n",
    "# 특히, 디지털 이미지는 해당 영역에 대한 픽셀 정보를 2차원 배열로 인식해서 처리할 수 있음\n",
    "# 데이터가 무엇이든 상관없이 그 데이터를 분석하려면 먼저 숫자배열로 변환하는 것이 우선되어야 함\n",
    "# n차원 배열\n",
    "# 파이썬의 리스트와는 달리 numpy 배열은 같은 종류의 데이터만 저장 가능\n",
    "import numpy as np\n",
    "\n",
    "# 파이썬 리스트\n",
    "a = list([1,2,3,4,5])   # 숫자\n",
    "b = list(['a','b','c','d','e'])  # 문자\n",
    "c = list([0.1,'b', 'c', 1,2])  # 문자&숫자\n",
    "\n",
    "print(type(a), type(b), type(c))"
   ]
  },
  {
   "cell_type": "code",
   "execution_count": 3,
   "metadata": {},
   "outputs": [
    {
     "name": "stdout",
     "output_type": "stream",
     "text": [
      "<class 'list'> <class 'list'> <class 'list'>\n<class 'int'> <class 'str'> <class 'float'>\n"
     ]
    }
   ],
   "source": [
    "print(type(a), type(b), type(c))\n",
    "print(type(a[0]),type(b[0]),type(c[0]))"
   ]
  },
  {
   "cell_type": "code",
   "execution_count": 13,
   "metadata": {},
   "outputs": [
    {
     "name": "stdout",
     "output_type": "stream",
     "text": [
      "<class 'numpy.ndarray'> <class 'numpy.ndarray'> <class 'numpy.ndarray'>\n"
     ]
    }
   ],
   "source": [
    "# numpy 배열\n",
    "# np.array(배열대상값들)\n",
    "d = np.array([1,2,3,4,5])\n",
    "e = np.array(['a','b','c','d','e'])  # 문자\n",
    "f = np.array([0.1,'b', 'c', 1,2])  # 문자&숫자\n",
    "\n",
    "print(type(d),type(e),type(f))"
   ]
  },
  {
   "cell_type": "code",
   "execution_count": 15,
   "metadata": {},
   "outputs": [
    {
     "name": "stdout",
     "output_type": "stream",
     "text": [
      "<class 'numpy.int32'> <class 'numpy.str_'> <class 'numpy.str_'>\n"
     ]
    }
   ],
   "source": [
    "print(type(d[0]),type(e[0]),type(f[0]))"
   ]
  },
  {
   "cell_type": "code",
   "execution_count": 18,
   "metadata": {},
   "outputs": [
    {
     "name": "stdout",
     "output_type": "stream",
     "text": [
      "(5,)\n1\n"
     ]
    }
   ],
   "source": [
    "print(d.shape)  # 배열의 요소 수\n",
    "print(d.ndim)   # 배열의 차원수"
   ]
  },
  {
   "cell_type": "code",
   "execution_count": 27,
   "metadata": {},
   "outputs": [
    {
     "name": "stdout",
     "output_type": "stream",
     "text": [
      "(3, 3)\n2\n"
     ]
    }
   ],
   "source": [
    "g = np.array([[1,2,3],[4,5,6],[7,8,9]])\n",
    "\n",
    "print(g.shape)\n",
    "print(g.ndim)"
   ]
  },
  {
   "cell_type": "code",
   "execution_count": 30,
   "metadata": {},
   "outputs": [
    {
     "name": "stdout",
     "output_type": "stream",
     "text": [
      "(2, 2, 2)\n3\n"
     ]
    }
   ],
   "source": [
    "h = np.array([[[1,2],[3,4]],[[5,6],[7,8]]])\n",
    "\n",
    "print(h.shape)\n",
    "print(h.ndim)"
   ]
  },
  {
   "cell_type": "code",
   "execution_count": null,
   "metadata": {},
   "outputs": [],
   "source": []
  },
  {
   "cell_type": "code",
   "execution_count": null,
   "metadata": {},
   "outputs": [],
   "source": []
  }
 ],
 "metadata": {
  "kernelspec": {
   "display_name": "Python 2",
   "language": "python",
   "name": "python2"
  },
  "language_info": {
   "codemirror_mode": {
    "name": "ipython",
    "version": 2
   },
   "file_extension": ".py",
   "mimetype": "text/x-python",
   "name": "python",
   "nbconvert_exporter": "python",
   "pygments_lexer": "ipython2",
   "version": "2.7.6"
  }
 },
 "nbformat": 4,
 "nbformat_minor": 0
}
