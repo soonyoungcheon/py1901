{
 "cells": [
  {
   "cell_type": "code",
   "execution_count": 31,
   "metadata": {
    "collapsed": true
   },
   "outputs": [
    {
     "name": "stdout",
     "output_type": "stream",
     "text": [
      "               method  number  orbital_period    mass  distance  year\n0     Radial Velocity       1      269.300000   7.100     77.40  2006\n1     Radial Velocity       1      874.774000   2.210     56.95  2008\n2     Radial Velocity       1      763.000000   2.600     19.84  2011\n3     Radial Velocity       1      326.030000  19.400    110.62  2007\n4     Radial Velocity       1      516.220000  10.500    119.47  2009\n5     Radial Velocity       1      185.840000   4.800     76.39  2008\n6     Radial Velocity       1     1773.400000   4.640     18.15  2002\n7     Radial Velocity       1      798.500000     NaN     21.41  1996\n8     Radial Velocity       1      993.300000  10.300     73.10  2008\n9     Radial Velocity       2      452.800000   1.990     74.79  2010\n10    Radial Velocity       2      883.000000   0.860     74.79  2010\n11    Radial Velocity       1      335.100000   9.880     39.43  2009\n12    Radial Velocity       1      479.100000   3.880     97.28  2008\n13    Radial Velocity       3     1078.000000   2.530     14.08  1996\n14    Radial Velocity       3     2391.000000   0.540     14.08  2001\n15    Radial Velocity       3    14002.000000   1.640     14.08  2009\n16    Radial Velocity       1        4.230785   0.472     15.36  1995\n17    Radial Velocity       5       14.651000   0.800     12.53  1996\n18    Radial Velocity       5       44.380000   0.165     12.53  2004\n19    Radial Velocity       5     4909.000000   3.530     12.53  2002\n20    Radial Velocity       5        0.736540     NaN     12.53  2011\n21    Radial Velocity       5      261.200000   0.172     12.53  2007\n22    Radial Velocity       3        4.215000   0.016      8.52  2009\n23    Radial Velocity       3       38.021000   0.057      8.52  2009\n24    Radial Velocity       3      123.010000   0.072      8.52  2009\n25    Radial Velocity       1      116.688400     NaN     18.11  1996\n26    Radial Velocity       1      691.900000     NaN     81.50  2012\n27    Radial Velocity       1      952.700000   5.300     97.18  2008\n28    Radial Velocity       1      181.400000   3.200     45.52  2013\n29            Imaging       1             NaN     NaN     45.52  2005\n...               ...     ...             ...     ...       ...   ...\n1005          Transit       1        3.693641     NaN    200.00  2012\n1006          Transit       1        4.465633     NaN    330.00  2012\n1007          Transit       1        4.617101     NaN    255.00  2012\n1008          Transit       1        2.838971     NaN    455.00  2012\n1009          Transit       1        5.017180     NaN    300.00  2012\n1010          Transit       1        7.919585     NaN    125.00  2012\n1011          Transit       1        4.305001     NaN    400.00  2012\n1012          Transit       1        3.855900     NaN    480.00  2012\n1013          Transit       1        4.411953     NaN    160.00  2012\n1014          Transit       1        4.378090     NaN    330.00  2012\n1015          Transit       1        1.573292     NaN    350.00  2012\n1016          Transit       1        2.311424     NaN    310.00  2013\n1017          Transit       1        4.086052     NaN    380.00  2012\n1018          Transit       1        4.614420     NaN    225.00  2012\n1019          Transit       1        2.903675     NaN    345.00  2012\n1020          Transit       1        2.216742     NaN    340.00  2012\n1021          Transit       1        2.484193     NaN    260.00  2013\n1022          Transit       1        1.360031     NaN     93.00  2012\n1023          Transit       1        2.175176     NaN    550.00  2012\n1024          Transit       1        3.662387     NaN    240.00  2012\n1025          Transit       1        3.067850     NaN     60.00  2012\n1026          Transit       1        0.925542     NaN    470.00  2014\n1027          Imaging       1             NaN     NaN     19.20  2011\n1028          Transit       1        3.352057     NaN   3200.00  2012\n1029          Imaging       1             NaN     NaN     10.10  2012\n1030          Transit       1        3.941507     NaN    172.00  2006\n1031          Transit       1        2.615864     NaN    148.00  2007\n1032          Transit       1        3.191524     NaN    174.00  2007\n1033          Transit       1        4.125083     NaN    293.00  2008\n1034          Transit       1        4.187757     NaN    260.00  2008\n\n[1035 rows x 6 columns]\n행성정보             number  orbital_period        mass     distance         year\ncount  1035.000000      992.000000  513.000000   808.000000  1035.000000\nmean      1.785507     2002.917596    2.638161   264.069282  2009.070531\nstd       1.240976    26014.728304    3.818617   733.116493     3.972567\nmin       1.000000        0.090706    0.003600     1.350000  1989.000000\n25%       1.000000        5.442540    0.229000    32.560000  2007.000000\n50%       1.000000       39.979500    1.260000    55.250000  2010.000000\n75%       2.000000      526.005000    3.040000   178.500000  2012.000000\nmax       7.000000   730000.000000   25.000000  8500.000000  2014.000000\n"
     ]
    }
   ],
   "source": [
    "import numpy as np\n",
    "import pandas as pd\n",
    "import matplotlib as mpl\n",
    "import matplotlib.pyplot as plt\n",
    "import seaborn as sns\n",
    "\n",
    "#pd.set_option('displau.expand_frame_repr', False)\n",
    "# mpl.rcParams['font.family']=''\n",
    "# mpl.rcParams['font.size'] = 10\n",
    "\n",
    "# seaborn 에서 제공하는 데이터 셋 - 행성 planet\n",
    "# 천문학자가 다른 별(외행성) 주변에서 발견한 행성 정보\n",
    "sns.set()\n",
    "\n",
    "planets = sns.load_dataset(\"planets\")\n",
    "planets = pd.DataFrame(planets)\n",
    "print(planets)\n",
    "\n",
    "#planets = sns.load_dataset(\"planets\")\n",
    "print('행성정보', planets.describe())\n",
    "#print(planets)"
   ]
  },
  {
   "cell_type": "code",
   "execution_count": 39,
   "metadata": {},
   "outputs": [
    {
     "name": "stdout",
     "output_type": "stream",
     "text": [
      "연도별 발견한 행성수       number  orbital_period       mass  distance\nyear                                             \n1989       1       83.888000   11.68000     40.57\n1992       6       91.803900    0.00000      0.00\n1994       3       98.211400    0.00000      0.00\n1995       1        4.230785    0.47200     15.36\n1996      15     2015.769933    7.91760     95.20\n1997       1       39.845000    1.04000     17.43\n1998      11      571.553306   13.43560    131.51\n1999      24     8284.213789   45.31300    464.21\n2000      27     8655.125170   50.86220    492.04\n2001      15     8823.652700   37.74000    438.38\n2002      46    31098.693942  122.05600   1376.28\n2003      35    54550.912880   80.54100   1034.05\n2004      41    11836.848236   21.81400   4249.89\n2005      64    28195.315999   68.13250   1719.92\n2006      43   749338.718705   35.99600  18486.41\n2007      65    18915.474897  118.46700   7319.52\n2008     120   648234.382394  147.24658   6315.54\n2009     131   129256.581285  268.51400   6810.71\n2010     193    64276.094943   52.87400  23882.06\n2011     354   130082.081196  110.02660  49447.33\n2012     258    62840.010462   87.80630  51259.04\n2013     277    14256.811931   66.10200  37613.51\n2014     117    15344.034471    5.34000   2159.02\n"
     ]
    }
   ],
   "source": [
    "# 연도별 발견한 행성 수 집계\n",
    "planet = planets.groupby('year').sum()\n",
    "print('연도별 발견한 행성수', planet)"
   ]
  },
  {
   "cell_type": "code",
   "execution_count": 63,
   "metadata": {},
   "outputs": [
    {
     "name": "stdout",
     "output_type": "stream",
     "text": [
      "연도별 발견 방법 method 별 발견한  행성 수\n year  method                       \n1989  Radial Velocity                    1\n1992  Pulsar Timing                      6\n1994  Pulsar Timing                      3\n1995  Radial Velocity                    1\n1996  Radial Velocity                   15\n1997  Radial Velocity                    1\n1998  Radial Velocity                   11\n1999  Radial Velocity                   24\n2000  Radial Velocity                   27\n2001  Radial Velocity                   15\n2002  Radial Velocity                   45\n      Transit                            1\n2003  Pulsar Timing                      1\n      Radial Velocity                   34\n2004  Imaging                            3\n      Microlensing                       1\n      Radial Velocity                   32\n      Transit                            5\n2005  Imaging                            1\n      Microlensing                       2\n      Radial Velocity                   61\n2006  Imaging                            4\n      Microlensing                       1\n      Radial Velocity                   33\n      Transit                            5\n2007  Imaging                            1\n      Pulsation Timing Variations        1\n      Radial Velocity                   47\n      Transit                           16\n2008  Eclipse Timing Variations          4\n                                      ... \n2010  Astrometry                         1\n      Eclipse Timing Variations          4\n      Imaging                            9\n      Microlensing                       2\n      Radial Velocity                   92\n      Transit                           85\n2011  Eclipse Timing Variations          5\n      Imaging                            3\n      Microlensing                       1\n      Orbital Brightness Modulation      4\n      Pulsar Timing                      1\n      Radial Velocity                  176\n      Transit                          162\n      Transit Timing Variations          2\n2012  Eclipse Timing Variations          1\n      Imaging                            2\n      Microlensing                       8\n      Radial Velocity                   70\n      Transit                          175\n      Transit Timing Variations          2\n2013  Astrometry                         1\n      Imaging                            7\n      Microlensing                       4\n      Orbital Brightness Modulation      1\n      Radial Velocity                   65\n      Transit                          197\n      Transit Timing Variations          2\n2014  Radial Velocity                   21\n      Transit                           93\n      Transit Timing Variations          3\nName: number, Length: 69, dtype: int64\n"
     ]
    }
   ],
   "source": [
    "# 연도별 발견 방법 method 별 발견한  행성 수 집계\n",
    "planet = planets.groupby(['year','method'])['number'].sum()\n",
    "print('연도별 발견 방법 method 별 발견한  행성 수\\n', planet)"
   ]
  },
  {
   "cell_type": "code",
   "execution_count": 28,
   "metadata": {},
   "outputs": [
    {
     "name": "stdout",
     "output_type": "stream",
     "text": [
      "5년주기 0       401\n1       401\n2       402\n3       401\n4       401\n5       401\n6       400\n7       399\n8       401\n9       402\n10      402\n11      401\n12      401\n13      399\n14      400\n15      401\n16      399\n17      399\n18      400\n19      400\n20      402\n21      401\n22      401\n23      401\n24      401\n25      399\n26      402\n27      401\n28      402\n29      401\n       ... \n1005    402\n1006    402\n1007    402\n1008    402\n1009    402\n1010    402\n1011    402\n1012    402\n1013    402\n1014    402\n1015    402\n1016    402\n1017    402\n1018    402\n1019    402\n1020    402\n1021    402\n1022    402\n1023    402\n1024    402\n1025    402\n1026    402\n1027    402\n1028    402\n1029    402\n1030    401\n1031    401\n1032    401\n1033    401\n1034    401\nName: year, Length: 1035, dtype: int64\n"
     ]
    }
   ],
   "source": [
    "# 행성데이터를 5년 주기로 발생된 행성 수 조회\n",
    "# 주기를 의미하는 컬럼이 없으므로 해당 컬럼을 생성할 것!\n",
    "print('5년주기', planets['year']//5)\n",
    "#planets['decade5'] = (planets['year']//5)"
   ]
  },
  {
   "cell_type": "code",
   "execution_count": null,
   "metadata": {},
   "outputs": [],
   "source": []
  },
  {
   "cell_type": "code",
   "execution_count": 59,
   "metadata": {},
   "outputs": [
    {
     "name": "stdout",
     "output_type": "stream",
     "text": [
      "10년주기 0       200\n1       200\n2       201\n3       200\n4       200\n5       200\n6       200\n7       199\n8       200\n9       201\n10      201\n11      200\n12      200\n13      199\n14      200\n15      200\n16      199\n17      199\n18      200\n19      200\n20      201\n21      200\n22      200\n23      200\n24      200\n25      199\n26      201\n27      200\n28      201\n29      200\n       ... \n1005    201\n1006    201\n1007    201\n1008    201\n1009    201\n1010    201\n1011    201\n1012    201\n1013    201\n1014    201\n1015    201\n1016    201\n1017    201\n1018    201\n1019    201\n1020    201\n1021    201\n1022    201\n1023    201\n1024    201\n1025    201\n1026    201\n1027    201\n1028    201\n1029    201\n1030    200\n1031    200\n1032    200\n1033    200\n1034    200\nName: year, Length: 1035, dtype: int64\n"
     ]
    }
   ],
   "source": [
    "# 행성데이터를 10년 주기로 발생된 행성 수 조회\n",
    "# 주기를 의미하는 컬럼이 없으므로 해당 컬럼을 생성할 것!\n",
    "#planets['decade10']\n",
    "print('10년주기', planets['year']//10)\n",
    "planets['decade10'] = 10*(planets['year']//10)"
   ]
  },
  {
   "cell_type": "code",
   "execution_count": 60,
   "metadata": {},
   "outputs": [
    {
     "name": "stdout",
     "output_type": "stream",
     "text": [
      "10년 주기로 발생된 행성수 decade10\n1980      1\n1990     31\n2000    406\n2010    597\nName: number, dtype: int64\n"
     ]
    }
   ],
   "source": [
    "# 행성 데이터를 10년 주기로 발생된 행성수 조회\n",
    "# 주기를 의미하는 컬럼이 없으므로 해당 컬럼을 생성할 것!\n",
    "# print('10년주기', planets['year']//10)\n",
    "\n",
    "planet = planets.groupby('decade10')['number'].count()\n",
    "print('10년 주기로 발생된 행성수', planet)"
   ]
  },
  {
   "cell_type": "code",
   "execution_count": 45,
   "metadata": {},
   "outputs": [
    {
     "name": "stdout",
     "output_type": "stream",
     "text": [
      "2018-12-01 23:35:00\n2017-08-15 10:01:00\n2018-12-25 19:25:00\nNaT\n"
     ]
    }
   ],
   "source": [
    "# 문자열을 날짜로 변환하기\n",
    "dates = np.array(['2018-12-01 11:35 PM', '2017-08-15 10:01 AM', '2018-12-25 07:25 PM', '2018-12-32 13:25 PM'])\n",
    "\n",
    "# 날짜/시간 변환시 errors='coerce'를 추가하면 변환할 수 없는 문자열\n",
    "# 한편, 오류를 발생하는 문자열은 NaT로 출력\n",
    "for i in range(len(dates)):\n",
    "    print(pd.to_datetime(dates[i], errors='coerce', format='%Y-%m-%d %I:%M %p'))"
   ]
  },
  {
   "cell_type": "code",
   "execution_count": 66,
   "metadata": {},
   "outputs": [
    {
     "name": "stdout",
     "output_type": "stream",
     "text": [
      "                dates\n0 2001-01-01 00:00:00\n1 2001-01-01 01:00:00\n2 2001-01-01 02:00:00\n3 2001-01-01 03:00:00\n4 2001-01-01 04:00:00\n5 2001-01-01 05:00:00\n6 2001-01-01 06:00:00\n7 2001-01-01 07:00:00\n8 2001-01-01 08:00:00\n9 2001-01-01 09:00:00\n                dates\n0 2001-01-01 00:00:00\n1 2001-01-01 00:00:30\n2 2001-01-01 00:01:00\n3 2001-01-01 00:01:30\n4 2001-01-01 00:02:00\n5 2001-01-01 00:02:30\n6 2001-01-01 00:03:00\n7 2001-01-01 00:03:30\n8 2001-01-01 00:04:00\n9 2001-01-01 00:04:30\n0     0\n1    30\n2     0\n3    30\n4     0\n5    30\n6     0\n7    30\n8     0\n9    30\nName: dates, dtype: int64\n"
     ]
    }
   ],
   "source": [
    "# 시계열 데이터 생성하기\n",
    "df = pd.DataFrame()\n",
    "\n",
    "# pd.date_range(시작일, 기간, 단위)\n",
    "# freq=M 월,D 일, H 시간, T 분, S 초, W 주  \n",
    "df['dates'] = pd.date_range('2001-01-01', periods=10, freq='H')\n",
    "print(df)\n",
    "\n",
    "df['dates'] = pd.date_range('2001-01-01', periods=10, freq='30S')\n",
    "print(df)\n",
    "print(df['dates'].dt.second)\n",
    "# year를 month, day, hour, minute, second"
   ]
  },
  {
   "cell_type": "code",
   "execution_count": 72,
   "metadata": {},
   "outputs": [
    {
     "name": "stdout",
     "output_type": "stream",
     "text": [
      "Empty DataFrame\nColumns: [dates]\nIndex: []\n"
     ]
    }
   ],
   "source": [
    "# 2001-01-01 01:00 ~ 2001-01-02 19:00 조회\n",
    "print(df[(df['dates']>='2001-01-01 01:00:00')&(df['dates']<='2001-01-02 19:00:00')])"
   ]
  },
  {
   "cell_type": "code",
   "execution_count": 75,
   "metadata": {},
   "outputs": [
    {
     "name": "stdout",
     "output_type": "stream",
     "text": [
      "Empty DataFrame\nColumns: [dates]\nIndex: []\n"
     ]
    }
   ],
   "source": [
    "# dates 컬럼을 index 칼럼으로 생성\n",
    "df = df.set_index(df['dates'])\n",
    "print(df.loc['2001-01-01 01:00:00':'2001-01-02 01:00:00'])"
   ]
  },
  {
   "cell_type": "code",
   "execution_count": 77,
   "metadata": {},
   "outputs": [
    {
     "name": "stdout",
     "output_type": "stream",
     "text": [
      "여행기간 0   0 days\n1   4 days\ndtype: timedelta64[ns]\n"
     ]
    }
   ],
   "source": [
    "# 날짜 계산하기\n",
    "# 문자열을 Timestamp함수에 적용하면 바로 날짜형으로 변환\n",
    "df = pd.DataFrame()\n",
    "df['도착']=[pd.Timestamp('2018-12-01'),pd.Timestamp('2018-12-05')]\n",
    "df['출발']=[pd.Timestamp('2018-12-01'),pd.Timestamp('2018-12-09')]\n",
    "print('여행기간',df['출발']-df['도착'])"
   ]
  }
 ],
 "metadata": {
  "kernelspec": {
   "display_name": "Python 2",
   "language": "python",
   "name": "python2"
  },
  "language_info": {
   "codemirror_mode": {
    "name": "ipython",
    "version": 2
   },
   "file_extension": ".py",
   "mimetype": "text/x-python",
   "name": "python",
   "nbconvert_exporter": "python",
   "pygments_lexer": "ipython2",
   "version": "2.7.6"
  }
 },
 "nbformat": 4,
 "nbformat_minor": 0
}
