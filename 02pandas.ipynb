{
 "cells": [
  {
   "cell_type": "code",
   "execution_count": 1,
   "metadata": {
    "collapsed": true
   },
   "outputs": [],
   "source": [
    "# pandas\n",
    "# 행에 '열 레이블 index'를 부착한 다차원 행렬인 데이터 프레임 자료구조를 제공하는 \n",
    "# 패키지 \n",
    "# 핵심 요소는 dataframe, series 시계열, index지수\n",
    "\n",
    "# pandas의 창시자 중 한 명은 해지펀드 애널리스트로 일하며 \n",
    "# 파이썬에서 금융 시게열자료를 다루기 위한 목적으로 개발\n",
    "\n",
    "# numpy 기반 행렬은 산술연산에 적합한 자료구조\n",
    "# pandas 는 numpy 행렬을 대상으로 data munging 머징/wrangling 랭글링\n",
    "# 시간을 줄여주는 효과가 있음\n",
    "# data munging/wrangling : data pre-processing\n",
    "# 원 origin 자료를 또 다른 형태의 자료로 변환하거나 매핑하는 작업을 의미\n"
   ]
  },
  {
   "cell_type": "code",
   "execution_count": 4,
   "metadata": {},
   "outputs": [
    {
     "name": "stdout",
     "output_type": "stream",
     "text": [
      "시계열 자료\n 0    0.00\n1    0.25\n2    0.50\n3    0.75\n4    1.00\ndtype: float64\n시계열 자료값\n [0.   0.25 0.5  0.75 1.  ]\n시계열 인덱스값\n RangeIndex(start=0, stop=5, step=1)\n시계열 2번 자료\n 0.5\n시계열 3,4번 자료\n 3    0.75\n4    1.00\ndtype: float64\n"
     ]
    }
   ],
   "source": [
    "import numpy as np\n",
    "import pandas as pd\n",
    "\n",
    "# 간단한 시계열 자료 생성\n",
    "# 시간적인 흐름에 따라 기록한 데이터\n",
    "a= pd.Series([0.0,0.25,0.5,0.75,1.0])\n",
    "\n",
    "print('시계열 자료\\n', a)\n",
    "print('시계열 자료값\\n', a.values)\n",
    "print('시계열 인덱스값\\n', a.index)\n",
    "print('시계열 2번 자료\\n', a[2])\n",
    "print('시계열 3,4번 자료\\n', a[3:5])"
   ]
  },
  {
   "cell_type": "code",
   "execution_count": 7,
   "metadata": {},
   "outputs": [
    {
     "name": "stdout",
     "output_type": "stream",
     "text": [
      "시계열 자료\n a    1.00\nb    1.25\nc    1.50\nd    1.75\ne    2.00\ndtype: float64\n시계열 자료값\n [1.   1.25 1.5  1.75 2.  ]\n시계열 인덱스값\n Index(['a', 'b', 'c', 'd', 'e'], dtype='object')\n시계열 2번 자료\n 1.5\n시계열 b 자료\n 1.25\n시계열 3,4번 자료\n d    1.75\ne    2.00\ndtype: float64\n시계열 3,4번 자료\n c    1.50\nd    1.75\ndtype: float64\n"
     ]
    }
   ],
   "source": [
    "b = pd.Series([1.0,1.25,1.5,1.75,2.0], index=['a','b','c','d','e'])\n",
    "\n",
    "print('시계열 자료\\n', b)\n",
    "print('시계열 자료값\\n', b.values)\n",
    "print('시계열 인덱스값\\n', b.index)\n",
    "print('시계열 2번 자료\\n', b[2])\n",
    "print('시계열 b 자료\\n', b['b'])\n",
    "print('시계열 3,4번 자료\\n', b[3:5])\n",
    "print('시계열 3,4번 자료\\n', b['c':'d'])"
   ]
  },
  {
   "cell_type": "code",
   "execution_count": 11,
   "metadata": {},
   "outputs": [
    {
     "name": "stdout",
     "output_type": "stream",
     "text": [
      "1번 데이터\n a\n2~3번 데이터\n 5    c\n7    d\ndtype: object\n#1번 데이터\n a\n#2,#3번 데이터\n 3    b\n5    c\ndtype: object\n2,3번 데이터\n 5    c\n7    d\ndtype: object\n"
     ]
    }
   ],
   "source": [
    "# pandas 에서 정수형 인덱스를 사용하는 경우\n",
    "# 파이썬의 slice 연산과 혼동될 위험이 존재\n",
    "# 따라서, pandas만의 특별한 인덱싱 indexer 기능 제공\n",
    "\n",
    "# iloc : 정수형 인덱스로 요소를 찾음\n",
    "# loc : 문자형 인덱스로 요소를 찾음\n",
    "# ix : 정수형/문자형 인덱스로 요소를 찾음\n",
    "\n",
    "c = pd.Series(['a','b','c','d','e'], index=[1,3,5,7,9])\n",
    "print('1번 데이터\\n', c[1])\n",
    "print('2~3번 데이터\\n', c[2:4])\n",
    "print('#1번 데이터\\n', c.loc[1])  # pandas indexer\n",
    "print('#2,#3번 데이터\\n', c.loc[3:5]) \n",
    "print('2,3번 데이터\\n', c.iloc[2:4])  # python idexer "
   ]
  },
  {
   "cell_type": "code",
   "execution_count": 13,
   "metadata": {},
   "outputs": [],
   "source": [
    "# 간단한 데이터프레임 자료 생성\n",
    "# 파이썬 딕셔너리의 특수한 형태\n",
    "# 시계열이 인덱스를 가진 1차원 배열이라면(벡터)\n",
    "# 데이터프레임은 행과 열이름을 가진 2차원 배열(행렬)\n",
    "area = {'seoul': 423967, 'busan':170312,'daejeon':149995, 'inchoun':141297, 'kwangju': 120163}\n",
    "pop = {'seoul': 38332521, 'busan':26448193,'daejeon':19651127, 'inchoun':19552860, 'kwangju': 12882135}\n",
    "states = pd.DataFrame({'pop':pop, 'area':area})"
   ]
  },
  {
   "cell_type": "code",
   "execution_count": 17,
   "metadata": {},
   "outputs": [
    {
     "name": "stdout",
     "output_type": "stream",
     "text": [
      "지역정보\n               pop    area\nbusan    26448193  170312\ndaejeon  19651127  149995\ninchoun  19552860  141297\nkwangju  12882135  120163\nseoul    38332521  423967\n면적정보\n busan      170312\ndaejeon    149995\ninchoun    141297\nkwangju    120163\nseoul      423967\nName: area, dtype: int64 busan      170312\ndaejeon    149995\ninchoun    141297\nkwangju    120163\nseoul      423967\nName: area, dtype: int64\n지역정보 컬럼\n Index(['pop', 'area'], dtype='object')\n"
     ]
    }
   ],
   "source": [
    "print('지역정보\\n', states)\n",
    "print('면적정보\\n', states['area'], states.area)\n",
    "#print('지역정보\\n', states)\n",
    "print('지역정보 컬럼\\n', states.columns)"
   ]
  },
  {
   "cell_type": "code",
   "execution_count": 35,
   "metadata": {},
   "outputs": [
    {
     "name": "stdout",
     "output_type": "stream",
     "text": [
      "   manager      date contury gender  age  q1  q2  q3  q4  q5\n1        1  10/24/14      US      M   32   5   3   3   3   2\n2        2  10/28/14      US      F   45   4   5   5   3   2\n3        3  10/01/14      UK      F   25   5   2   5   4   1\n4        4  10/12/14      UK      M   39   5   5   5   0   2\n5        5  05/01/14      UK      F   99   5   5   2   0   1\n리더쉽 데이터프레임\n    manager      date contury gender  age  q1  q2  q3  q4  q5\n1        1  10/24/14      US      M   32   5   3   3   3   2\n2        2  10/28/14      US      F   45   4   5   5   3   2\n3        3  10/01/14      UK      F   25   5   2   5   4   1\n4        4  10/12/14      UK      M   39   5   5   5   0   2\n5        5  05/01/14      UK      F   99   5   5   2   0   1\n나이 컬럼은? 1    32\n2    45\n3    25\n4    39\n5    99\nName: age, dtype: int64\n질문 컬럼은?    q1  q2  q3  q4  q5\n1   5   3   3   3   2\n2   4   5   5   3   2\n3   5   2   5   4   1\n4   5   5   5   0   2\n5   5   5   2   0   1\n질문 컬럼은?    q1  q2  q3  q4  q5\n1   5   3   3   3   2\n2   4   5   5   3   2\n3   5   2   5   4   1\n4   5   5   5   0   2\n5   5   5   2   0   1\n"
     ]
    }
   ],
   "source": [
    "# 리더쉽 데이터를 pandas DF로 생성하기\n",
    "data = {'manager': [1,2,3,4,5], 'date':['10/24/14','10/28/14','10/01/14','10/12/14','05/01/14'] ,\n",
    "        'contury':['US','US','UK','UK','UK'], 'gender':['M','F','F','M','F'], \n",
    "        'age': [32,45,25,39,99], 'q1':[5,4,5,5,5], 'q2':[3,5,2,5,5], 'q3':[3,5,5,5,2], \n",
    "        'q4':[3,3,4,0,0], 'q5':[2,2,1,2,1]}\n",
    "idx = np.arange(1,6)\n",
    "leadership = pd.DataFrame(data, index=idx)\n",
    "print(leadership)\n",
    "print('리더쉽 데이터프레임\\n', leadership)\n",
    "print('나이 컬럼은?', leadership.age)\n",
    "print('질문 컬럼은?', leadership.iloc[:,5:10])\n",
    "print('질문 컬럼은?', leadership.loc[:,'q1':'q5'])"
   ]
  },
  {
   "cell_type": "code",
   "execution_count": 38,
   "metadata": {},
   "outputs": [
    {
     "name": "stdout",
     "output_type": "stream",
     "text": [
      "데이터프레임\n     x   y   z  10  20\na   1   2   3   4   5\nb   6   7   8   9  10\nc  11  12  13  14  15\nd  16  17  18  19  20\ne  21  22  23  24  25\na/b/c행, 10/20열 출력\n    10  20\na   4   5\nb   9  10\nc  14  15\na/b/c행, 10/20열 출력\n    10  20\na   4   5\nb   9  10\nc  14  15\n"
     ]
    },
    {
     "name": "stderr",
     "output_type": "stream",
     "text": [
      "D:\\stacy\\py1901\\venv\\lib\\site-packages\\ipykernel_launcher.py:6: DeprecationWarning: \n.ix is deprecated. Please use\n.loc for label based indexing or\n.iloc for positional indexing\n\nSee the documentation here:\nhttp://pandas.pydata.org/pandas-docs/stable/indexing.html#ix-indexer-is-deprecated\n  \n"
     ]
    }
   ],
   "source": [
    "# ex) \n",
    "df = pd.DataFrame(np.arange(1,26).reshape(5,5), index=list('abcde'),# 문자형 인덱스,\n",
    "columns=['x','y','z','10','20'] )\n",
    "print('데이터프레임\\n', df)\n",
    "print('a/b/c행, 10/20열 출력\\n', df.loc['a':'c','10':'20'])\n",
    "print('a/b/c행, 10/20열 출력\\n', df.ix['a':'c','10':'20'])\n",
    "# print('a/b/c행, 10/20열 출력\\n', df)"
   ]
  },
  {
   "cell_type": "code",
   "execution_count": 46,
   "metadata": {},
   "outputs": [
    {
     "name": "stdout",
     "output_type": "stream",
     "text": [
      "핸드폰 사용현황\n     출시연도  구매시기  화면크기  연령    키  몸무게  평균사용시간  평균PC사용시간  데이터사용량\n0   2015  2015   5.0  45  173   75      60       500     100\n1   2014  2015   4.5  27  176   59      70        30      50\n2   2015  2015   5.0  29  183   65     120       300     200\n3   2015  2016   5.0  28  172   63      80        60     190\n4   2015  2015   5.0  24  179   65      90        30     500\n5   2016  2016   5.5  34  175   73      80       480     160\n6   2016  2016   6.0  40  169   77      60       300     170\n7   2014  2014   5.0  40  182   82      50        60      50\n8   2014  2014   4.5  30  175   70     100        90     300\n9   2015  2014   5.0  42  177   79      40       480      30\n10  2014  2015   4.5  32  167   62     130       300     400\n11  2015  2015   5.5  37  171   70      90       360     200\n12  2015  2016   5.5  35  173   69      60       120     150\n13  2015  2015   6.0  41  181   88      60       120     130\n14  2015  2015   5.5  10  178   89      70        60     140\n15  2015  2015   5.0  35  169   70      50        90      80\n16  2016  2016   5.5  35  184   72      90        90      70\n17  2016  2016   6.0  34  176   71      90        60     130\n18  2015  2015   4.5  29  188   83     140       240     600\n19  2016  2016   5.5  30  175   70      50       240      50\n20  2015  2015   5.5  32  177   68      70       120     300\n21  2016  2016   5.5  25  182   73      60        60     300\n22  2015  2015   5.0  26  179   80     180        30    1100\n23  2016  2016   6.0  25  177   76     120        90     700\n핸드폰 사용현황\n     year   buy  display  age  height  weight  hptime  comtime  datetime\n1   2015  2015      5.0   45     173      75      60      500       100\n2   2014  2015      4.5   27     176      59      70       30        50\n3   2015  2015      5.0   29     183      65     120      300       200\n4   2015  2016      5.0   28     172      63      80       60       190\n5   2015  2015      5.0   24     179      65      90       30       500\n6   2016  2016      5.5   34     175      73      80      480       160\n7   2016  2016      6.0   40     169      77      60      300       170\n8   2014  2014      5.0   40     182      82      50       60        50\n9   2014  2014      4.5   30     175      70     100       90       300\n10  2015  2014      5.0   42     177      79      40      480        30\n11  2014  2015      4.5   32     167      62     130      300       400\n12  2015  2015      5.5   37     171      70      90      360       200\n13  2015  2016      5.5   35     173      69      60      120       150\n14  2015  2015      6.0   41     181      88      60      120       130\n15  2015  2015      5.5   10     178      89      70       60       140\n16  2015  2015      5.0   35     169      70      50       90        80\n17  2016  2016      5.5   35     184      72      90       90        70\n18  2016  2016      6.0   34     176      71      90       60       130\n19  2015  2015      4.5   29     188      83     140      240       600\n20  2016  2016      5.5   30     175      70      50      240        50\n21  2015  2015      5.5   32     177      68      70      120       300\n22  2016  2016      5.5   25     182      73      60       60       300\n23  2015  2015      5.0   26     179      80     180       30      1100\n24  2016  2016      6.0   25     177      76     120       90       700\n"
     ]
    }
   ],
   "source": [
    "# pandas 입출력\n",
    "# 데이터 파일을 읽어 데이터프레임을 생성\n",
    "# csv, excel, json, .... 등 지원\n",
    "phone = pd.read_csv('c:/Java/data/phoneinfo.csv', encoding='euc-kr')\n",
    "print('핸드폰 사용현황\\n', phone)\n",
    "# 컬럼명을 지정해서 데이터프레임 생성\n",
    "cols = ['year','buy','display', 'age','height','weight', 'hptime', 'comtime', 'datetime']\n",
    "idx  = np.arange(1,25)\n",
    "phone = pd.read_csv('c:/Java/data/phoneinfo.csv', names=cols,encoding='euc-kr', skiprows=1, header= None)\n",
    "phone.index = idx\n",
    "pd.set_option('display.max_columns',30)\n",
    "print('핸드폰 사용현황\\n', phone)"
   ]
  },
  {
   "cell_type": "code",
   "execution_count": 51,
   "metadata": {},
   "outputs": [
    {
     "name": "stdout",
     "output_type": "stream",
     "text": [
      "         우편번호   시도  시군구   읍면      도로명  건물번호본번  건물번호부번 시군구용건물명 법정동명   리명  지번본번\n0       12410  경기도  가평군  가평읍      보납로     459      86     NaN  NaN  개곡리   462\n1       12410  경기도  가평군  가평읍      보납로     459      59     NaN  NaN  개곡리   436\n2       12410  경기도  가평군  가평읍      보납로     459      53     NaN  NaN  개곡리   436\n3       12410  경기도  가평군  가평읍      보납로     459      33     NaN  NaN  개곡리   442\n4       12410  경기도  가평군  가평읍      보납로     459      49     NaN  NaN  개곡리   436\n5       12410  경기도  가평군  가평읍      보납로     459      39     NaN  NaN  개곡리   436\n6       12410  경기도  가평군  가평읍     능모루길      41      18     NaN  NaN  개곡리   754\n7       12410  경기도  가평군  가평읍    당목가일길     562     132     NaN  NaN  개곡리   189\n8       12410  경기도  가평군  가평읍    당목가일길     562      79     NaN  NaN  개곡리   189\n9       12410  경기도  가평군  가평읍     능모루길      27       0     NaN  NaN  개곡리   880\n10      12410  경기도  가평군  가평읍    당목가일길     473     123     NaN  NaN  개곡리   177\n11      12410  경기도  가평군  가평읍    당목가일길     211      20     NaN  NaN  개곡리   710\n12      12410  경기도  가평군  가평읍    당목가일길     211      22     NaN  NaN  개곡리   710\n13      12410  경기도  가평군  가평읍    당목가일길     473      69     NaN  NaN  개곡리   308\n14      12410  경기도  가평군  가평읍    당목가일길     368      14     NaN  NaN  개곡리   519\n15      12410  경기도  가평군  가평읍    당목가일길     515       0     NaN  NaN  개곡리   198\n16      12410  경기도  가평군  가평읍    당목가일길     503       0     NaN  NaN  개곡리   199\n17      12410  경기도  가평군  가평읍    당목가일길     505       0     NaN  NaN  개곡리   199\n18      12410  경기도  가평군  가평읍      보납로     459      41     NaN  NaN  개곡리   449\n19      12410  경기도  가평군  가평읍    당목가일길     397      35     NaN  NaN  개곡리   335\n20      12410  경기도  가평군  가평읍    당목가일길     732       0     NaN  NaN  개곡리    97\n21      12410  경기도  가평군  가평읍     능모루길      63       0     NaN  NaN  개곡리   775\n22      12410  경기도  가평군  가평읍      보납로     459     145     NaN  NaN  개곡리   641\n23      12410  경기도  가평군  가평읍    당목가일길     468       0     NaN  NaN  개곡리   259\n24      12410  경기도  가평군  가평읍     능모루길      58      59     NaN  NaN  개곡리  1111\n25      12410  경기도  가평군  가평읍    당목가일길     473      51     NaN  NaN  개곡리   291\n26      12410  경기도  가평군  가평읍    당목가일길     410      28     NaN  NaN  개곡리   380\n27      12410  경기도  가평군  가평읍    당목가일길     482      13     NaN  NaN  개곡리   203\n28      12410  경기도  가평군  가평읍    당목가일길     482      31     NaN  NaN  개곡리   214\n29      12410  경기도  가평군  가평읍    당목가일길     482      33     NaN  NaN  개곡리   219\n...       ...  ...  ...  ...      ...     ...     ...     ...  ...  ...   ...\n965630  18347  경기도  화성시  NaN      황계길     127       0     NaN  황계동  NaN   160\n965631  18347  경기도  화성시  NaN      황계길      23       6     NaN  황계동  NaN   119\n965632  18347  경기도  화성시  NaN      황계길      23       5     NaN  황계동  NaN   120\n965633  18347  경기도  화성시  NaN  황계안길8번길      10       0     NaN  황계동  NaN   177\n965634  18347  경기도  화성시  NaN  황계안길8번길       8       0     NaN  황계동  NaN   177\n965635  18347  경기도  화성시  NaN      태안로     375       0     NaN  황계동  NaN   137\n965636  18347  경기도  화성시  NaN      태안로     369       4     NaN  황계동  NaN   152\n965637  18347  경기도  화성시  NaN      태안로     393       0     NaN  황계동  NaN   139\n965638  18358  경기도  화성시  NaN      태안로     327       0     NaN  황계동  NaN   102\n965639  18358  경기도  화성시  NaN      태안로     337       1     NaN  황계동  NaN   102\n965640  18358  경기도  화성시  NaN      태안로     323      20     NaN  황계동  NaN   102\n965641  18347  경기도  화성시  NaN      태안로     365       1     NaN  황계동  NaN   136\n965642  18347  경기도  화성시  NaN      황계길      90       5     NaN  황계동  NaN   157\n965643  18347  경기도  화성시  NaN      황계길      90       2     NaN  황계동  NaN   158\n965644  18347  경기도  화성시  NaN      황계길     144       1     NaN  황계동  NaN   149\n965645  18347  경기도  화성시  NaN      황계길     150       2     NaN  황계동  NaN   149\n965646  18347  경기도  화성시  NaN      황계길     150       6     NaN  황계동  NaN   149\n965647  18347  경기도  화성시  NaN      황계길     140       0     NaN  황계동  NaN   149\n965648  18347  경기도  화성시  NaN      황계길      14       0     NaN  황계동  NaN   152\n965649  18347  경기도  화성시  NaN      황계길      73       3     NaN  황계동  NaN   112\n965650  18347  경기도  화성시  NaN      황계길      19       0     NaN  황계동  NaN   120\n965651  18347  경기도  화성시  NaN      황계길       4       0     NaN  황계동  NaN   136\n965652  18347  경기도  화성시  NaN      황계길     150      15     NaN  황계동  NaN   149\n965653  18347  경기도  화성시  NaN      황계길      12       0     NaN  황계동  NaN   152\n965654  18347  경기도  화성시  NaN      황계길      93       0     NaN  황계동  NaN   159\n965655  18347  경기도  화성시  NaN      황계길     150      19     NaN  황계동  NaN   149\n965656  18347  경기도  화성시  NaN      황계길     150      21     NaN  황계동  NaN   149\n965657  18347  경기도  화성시  NaN      황계길     150      13     NaN  황계동  NaN   149\n965658  18347  경기도  화성시  NaN      황계길     150       5     NaN  황계동  NaN   149\n965659  18347  경기도  화성시  NaN      황계길     150       8     NaN  황계동  NaN   149\n\n[965660 rows x 11 columns]\n"
     ]
    },
    {
     "name": "stderr",
     "output_type": "stream",
     "text": [
      "D:\\stacy\\py1901\\venv\\lib\\site-packages\\IPython\\core\\interactiveshell.py:2705: DtypeWarning: Columns (3,9) have mixed types. Specify dtype option on import or set low_memory=False.\n  interactivity=interactivity, compiler=compiler, result=result)\n"
     ]
    }
   ],
   "source": [
    "zipcode = pd.read_csv('c:/Java/data/gyeonggi.csv', encoding= 'UTF-8')\n",
    "print(zipcode)"
   ]
  },
  {
   "cell_type": "code",
   "execution_count": 87,
   "metadata": {},
   "outputs": [
    {
     "name": "stdout",
     "output_type": "stream",
     "text": [
      "                우편번호         건물번호본번         건물번호부번           지번본번\ncount  965660.000000  965660.000000  965660.000000  965660.000000\nmean    14152.160106     162.668942       8.588461     530.684841\nstd      2740.437360     398.056862      20.744886     701.088959\nmin     10000.000000       1.000000       0.000000       0.000000\n25%     11749.000000      18.000000       0.000000     167.000000\n50%     13362.000000      44.000000       0.000000     370.000000\n75%     17039.000000     120.000000       9.000000     643.000000\nmax     18635.000000    8922.000000     707.000000    7345.000000\n    우편번호   시도  시군구   읍면  도로명  건물번호본번  건물번호부번 시군구용건물명 법정동명   리명  지번본번\n0  12410  경기도  가평군  가평읍  보납로     459      86               개곡리   462\n1  12410  경기도  가평군  가평읍  보납로     459      59               개곡리   436\n2  12410  경기도  가평군  가평읍  보납로     459      53               개곡리   436\n3  12410  경기도  가평군  가평읍  보납로     459      33               개곡리   442\n4  12410  경기도  가평군  가평읍  보납로     459      49               개곡리   436\n         우편번호   시도  시군구 읍면  도로명  건물번호본번  건물번호부번 시군구용건물명 법정동명 리명  지번본번\n965655  18347  경기도  화성시     황계길     150      19          황계동      149\n965656  18347  경기도  화성시     황계길     150      21          황계동      149\n965657  18347  경기도  화성시     황계길     150      13          황계동      149\n965658  18347  경기도  화성시     황계길     150       5          황계동      149\n965659  18347  경기도  화성시     황계길     150       8          황계동      149\n"
     ]
    }
   ],
   "source": [
    "# 누락된 데이터 처리 : np.nan\n",
    "# zipcode['읍면'] = zipcode['읍면'].replace(np.nan, '')\n",
    "# print(zipcode)\n",
    "# 누락된 데이터 처리 2 : fillna\n",
    "#zipcode = zipcode.fillna('')\n",
    "zipcode.fillna('', inplace= True)\n",
    "print(zipcode.describe())\n",
    "print(zipcode.head())\n",
    "print(zipcode.tail())"
   ]
  },
  {
   "cell_type": "code",
   "execution_count": 60,
   "metadata": {},
   "outputs": [],
   "source": [
    "# 누락된 데이터 다루기 - null, NaN, Na, None\n",
    "# val1 = np.array([1,2, None,4,5])\n",
    "# print('누락된 데이터', val1)\n",
    "# print('누락된 데이터 유형', val1.dtype)\n",
    "# # print('데이터 산술연산', val1.sum()) 누락된 데이터 산술 연산은 오류 발생\n"
   ]
  },
  {
   "cell_type": "code",
   "execution_count": 63,
   "metadata": {},
   "outputs": [
    {
     "name": "stdout",
     "output_type": "stream",
     "text": [
      "누락된 데이터 0    1.0\n1    2.0\n2    NaN\n3    4.0\n4    NaN\ndtype: float64\n누락된 데이터 유형 float64\n데이터 산술연산 7.0\n"
     ]
    }
   ],
   "source": [
    "# 누락된 데이터 다루기 - null, NaN, Na, None\n",
    "val3 = pd.Series([1,2, np.nan,4,None])\n",
    "print('누락된 데이터', val3)\n",
    "print('누락된 데이터 유형', val3.dtype)   # None -> nan\n",
    "print('데이터 산술연산', val3.sum())  # 누락값 제외 "
   ]
  },
  {
   "cell_type": "code",
   "execution_count": 78,
   "metadata": {},
   "outputs": [
    {
     "name": "stdout",
     "output_type": "stream",
     "text": [
      "널값 출력 0    False\n1    False\n2     True\n3    False\n4     True\ndtype: bool\n정상값 출력1 0    1.0\n1    2.0\n3    4.0\ndtype: float64\n정상값 출력1 0    1.0\n1    2.0\n3    4.0\ndtype: float64\n정상값 출력1 0    1.0\n1    2.0\n3    4.0\ndtype: float64\n널값 제거\n 0    1.0\n1    2.0\n3    4.0\ndtype: float64\n"
     ]
    }
   ],
   "source": [
    "# null값 다루기\n",
    "# pandas 자료구조에서는 널값을 감지하고 삭제하는 기능제공\n",
    "val4 = pd.Series([1,2,np.nan,4, None])\n",
    "print('널값 출력', val4.isnull())\n",
    "print('정상값 출력1', val4[-val4.isnull()])\n",
    "print('정상값 출력1', val4[val4.notnull()])\n",
    "print('정상값 출력1', val4[~val4.isnull()])\n",
    "print('널값 제거\\n', val4.dropna())"
   ]
  },
  {
   "cell_type": "code",
   "execution_count": 77,
   "metadata": {},
   "outputs": [
    {
     "name": "stdout",
     "output_type": "stream",
     "text": [
      "널값 출력\n     0   1   2\n0 NaN NaN NaN\n1 NaN NaN NaN\n2 NaN NaN NaN\n정상값 출력\n       0     1     2\n0   1.0   NaN   3.0\n1   NaN   8.0  10.0\n2  15.0  20.0   NaN\n정상값 출력2\n       0     1     2\n0   1.0   NaN   3.0\n1   NaN   8.0  10.0\n2  15.0  20.0   NaN\n널값 제거\n Empty DataFrame\nColumns: [0, 1, 2]\nIndex: []\n"
     ]
    }
   ],
   "source": [
    "val5 = pd.DataFrame([[1, np.nan, 3],[np.nan,8,10],[15,20, np.nan]])\n",
    "print('널값 출력\\n', val5[val5.isnull()])\n",
    "print('정상값 출력\\n', val5[val5.notnull()] )\n",
    "print('정상값 출력2\\n', val5[~val5.isnull()])\n",
    "print('널값 제거\\n', val5.dropna())  # 데이터프레임에서 dropna()를 사용하면 행을 기준으로 null이 삭제됨"
   ]
  },
  {
   "cell_type": "code",
   "execution_count": 81,
   "metadata": {},
   "outputs": [
    {
     "name": "stdout",
     "output_type": "stream",
     "text": [
      "널값 제거\n       0     1   2\n2  15.0  20.0  24\n널값 제거\n     2\n0   3\n1  10\n2  24\n"
     ]
    }
   ],
   "source": [
    "val5 = pd.DataFrame([[1, np.nan, 3],[np.nan,8,10],[15,20, 24]])\n",
    "print('널값 제거\\n', val5.dropna(axis=0))\n",
    "print('널값 제거\\n', val5.dropna(axis=1))\n",
    "# 데이터프레임의 열값 기준으로 널값제거"
   ]
  },
  {
   "cell_type": "code",
   "execution_count": 91,
   "metadata": {},
   "outputs": [
    {
     "name": "stdout",
     "output_type": "stream",
     "text": [
      "널값 대체하기1\n 0    1\n1    2\n2    a\n3    4\n4    a\ndtype: object\n앞값으로 널값 대체하기1\n 0    1\n1    2\n2    a\n3    4\n4    a\ndtype: object\n뒷값으로 널값 대체하기1\n 0    1\n1    2\n2    a\n3    4\n4    a\ndtype: object\n열 기준 앞값으로 널값 대체하기2\n       0     1   2\n0   1.0   NaN   3\n1   1.0   8.0  10\n2  15.0  20.0  24\n열 기준 뒷값으로 널값 대체하기2\n       0     1   2\n0   1.0   8.0   3\n1  15.0   8.0  10\n2  15.0  20.0  24\n행 기준 앞값으로 널값 대체하기2\n       0     1     2\n0   1.0   1.0   3.0\n1   NaN   8.0  10.0\n2  15.0  20.0  24.0\n행 기준 뒷값으로 널값 대체하기2\n       0     1     2\n0   1.0   3.0   3.0\n1   8.0   8.0  10.0\n2  15.0  20.0  24.0\n널값 대체하기2\n     0   1   2\n0   1   0   3\n1   0   8  10\n2  15  20  24\n"
     ]
    }
   ],
   "source": [
    "# 널값을 다른 값으로 대체하기 - fillna\n",
    "print('널값 대체하기1\\n', val4.fillna('a'))\n",
    "print('앞값으로 널값 대체하기1\\n', val4.fillna('a'))\n",
    "print('뒷값으로 널값 대체하기1\\n', val4.fillna('a'))\n",
    "# method=ffill, fill=bfill 으로 널값기준 앞/뒤값으로 대체할 수 있음\n",
    "print('열 기준 앞값으로 널값 대체하기2\\n', val5.fillna(method='ffill',axis=0))\n",
    "print('열 기준 뒷값으로 널값 대체하기2\\n', val5.fillna(method='bfill',axis=0))\n",
    "print('행 기준 앞값으로 널값 대체하기2\\n', val5.fillna(method='ffill',axis=1))\n",
    "print('행 기준 뒷값으로 널값 대체하기2\\n', val5.fillna(method='bfill',axis=1))\n",
    "print('널값 대체하기2\\n', val5.fillna('0'))"
   ]
  },
  {
   "cell_type": "code",
   "execution_count": 115,
   "metadata": {},
   "outputs": [
    {
     "name": "stdout",
     "output_type": "stream",
     "text": [
      "생존자 수 확인\n 123\n남성 생존자 수 확인\n 41\n"
     ]
    }
   ],
   "source": [
    "# ex) titanic 데이터 셋을 이용한 예제\n",
    "titanic = pd.read_csv('c:/Java/data/train.csv', encoding='utf-8')\n",
    "#print(titanic.head())\n",
    "pd.set_option('display.expand_frame_repr', False)\n",
    "# null 값 처리 \n",
    "titanic = titanic.dropna()\n",
    "# 생존자 수 확인\n",
    "print('생존자 수 확인\\n',len(titanic[titanic['Survived']== 1]))\n",
    "#print(titanic[titanic['Survived']== 1])\n",
    "# 남성 생존자 수 확인\n",
    "print('남성 생존자 수 확인\\n',len(titanic[(titanic.Survived== 1) & ( titanic.Sex== 'male')]))\n",
    "\n"
   ]
  },
  {
   "cell_type": "code",
   "execution_count": 129,
   "metadata": {},
   "outputs": [
    {
     "name": "stdout",
     "output_type": "stream",
     "text": [
      "        0     1         2         3                      4    5    6                           7  8       9\n0  Athens  1896  Aquatics  Swimming       HERSCHMANN, Otto  AUT  Men              100m freestyle  M  Silver\n1  Athens  1896  Aquatics  Swimming      DRIVAS, Dimitrios  GRE  Men  100m freestyle for sailors  M  Bronze\n2  Athens  1896  Aquatics  Swimming     MALOKINIS, Ioannis  GRE  Men  100m freestyle for sailors  M    Gold\n3  Athens  1896  Aquatics  Swimming     CHASAPIS, Spiridon  GRE  Men  100m freestyle for sailors  M  Silver\n4  Athens  1896  Aquatics  Swimming  CHOROPHAS, Efstathios  GRE  Men             1200m freestyle  M  Bronze\nseoul에서 딴 메달 수 1546\nseoul에서 딴 금메달 수 506\nseoul에서 딴 은메달 수 505\nseoul에서 딴 동메달 수 535\n"
     ]
    }
   ],
   "source": [
    "# ex) summermedals 데이터 셋을 이용한 예제\n",
    "medals = pd.read_table('c:/Java/data/summerMedals.txt', encoding='utf-8', skiprows=1, header= None)\n",
    "print(medals.head())\n",
    "#'seoul' 도시에서 딴 전체 금/은/동 메달 수\n",
    "print('seoul에서 딴 메달 수', len(medals[medals[0]== 'Seoul']))\n",
    "print('seoul에서 딴 금메달 수', len(medals[(medals[0]== 'Seoul') & (medals[9]== 'Gold')]))\n",
    "print('seoul에서 딴 은메달 수', len(medals[(medals[0]== 'Seoul') & (medals[9]== 'Silver')]))\n",
    "print('seoul에서 딴 동메달 수', len(medals[(medals[0]== 'Seoul') & (medals[9]== 'Bronze')]))\n"
   ]
  },
  {
   "cell_type": "code",
   "execution_count": null,
   "metadata": {},
   "outputs": [],
   "source": []
  },
  {
   "cell_type": "code",
   "execution_count": null,
   "metadata": {},
   "outputs": [],
   "source": []
  },
  {
   "cell_type": "code",
   "execution_count": null,
   "metadata": {},
   "outputs": [],
   "source": []
  },
  {
   "cell_type": "code",
   "execution_count": null,
   "metadata": {},
   "outputs": [],
   "source": [
    "print('질문 컬럼은?', leadership.iloc[:,5:10])"
   ]
  }
 ],
 "metadata": {
  "kernelspec": {
   "display_name": "Python 2",
   "language": "python",
   "name": "python2"
  },
  "language_info": {
   "codemirror_mode": {
    "name": "ipython",
    "version": 2
   },
   "file_extension": ".py",
   "mimetype": "text/x-python",
   "name": "python",
   "nbconvert_exporter": "python",
   "pygments_lexer": "ipython2",
   "version": "2.7.6"
  }
 },
 "nbformat": 4,
 "nbformat_minor": 0
}
