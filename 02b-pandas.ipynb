{
 "cells": [
  {
   "cell_type": "code",
   "execution_count": 3,
   "metadata": {
    "collapsed": true
   },
   "outputs": [
    {
     "name": "stdout",
     "output_type": "stream",
     "text": [
      "  Name  Age     sex\n0   혜교   38  female\n1   지현   25  female\n"
     ]
    }
   ],
   "source": [
    "import numpy as np\n",
    "import pandas as pd\n",
    "\n",
    "titan = pd.DataFrame()\n",
    "titan['Name'] = ['혜교','지현']\n",
    "titan['Age']= [38, 25]\n",
    "titan['sex']= ['female','female']\n",
    "print(titan.tail())"
   ]
  },
  {
   "cell_type": "code",
   "execution_count": 63,
   "metadata": {},
   "outputs": [
    {
     "name": "stdout",
     "output_type": "stream",
     "text": [
      "  Name  Age     sex     Sex\n0   혜교   38  female     NaN\n1   지현   25  female     NaN\n2   수지   23     NaN  female\n생성된 데이터프레임\n     0\na  10\nb  20\nc  30\nd  40\ne  50\n"
     ]
    }
   ],
   "source": [
    "person = pd.Series(['수지', 23,'female'], index=['Name','Age','Sex'])\n",
    "titan = titan.append(person, ignore_index=True)\n",
    "print(titan)\n",
    "nums = [10,20,30,40,50]\n",
    "idx = ['a','b','c','d','e']\n",
    "df = pd.DataFrame(nums, idx)\n",
    "print('생성된 데이터프레임\\n',df)"
   ]
  },
  {
   "cell_type": "code",
   "execution_count": 47,
   "metadata": {},
   "outputs": [
    {
     "name": "stdout",
     "output_type": "stream",
     "text": [
      "수정된 데이터프레임\n     0  floats\na  10     1.5\nb  20     2.5\nc  30     3.5\nd  40     4.5\ne  50     5.5\n"
     ]
    }
   ],
   "source": [
    "# 데이터프레임에  새로운 열 추가하기\n",
    "floats = [1.5,2.5,3.5,4.5,5.5]\n",
    "df['floats'] = floats\n",
    "print('수정된 데이터프레임\\n', df)"
   ]
  },
  {
   "cell_type": "code",
   "execution_count": 48,
   "metadata": {},
   "outputs": [
    {
     "name": "stdout",
     "output_type": "stream",
     "text": [
      "수정된 데이터프레임\n    ints  floats\na    10     1.5\nb    20     2.5\nc    30     3.5\nd    40     4.5\ne    50     5.5\n"
     ]
    }
   ],
   "source": [
    "#컬럼명 수정하기\n",
    "df.columns = ['ints','floats']\n",
    "print('수정된 데이터프레임\\n', df)"
   ]
  },
  {
   "cell_type": "code",
   "execution_count": 49,
   "metadata": {},
   "outputs": [
    {
     "name": "stdout",
     "output_type": "stream",
     "text": [
      "수정된 데이터프레임\n    ints  floats\n0  10.0     1.5\n1  20.0     2.5\n2  30.0     3.5\n3  40.0     4.5\n4  50.0     5.5\n5  60.0     6.5\n"
     ]
    }
   ],
   "source": [
    "# 새로운 행을 추가하기\n",
    "df = df.append({'ints':60, 'floats':6.5}, ignore_index= True)\n",
    "print('수정된 데이터프레임\\n', df)"
   ]
  },
  {
   "cell_type": "code",
   "execution_count": 52,
   "metadata": {},
   "outputs": [
    {
     "name": "stdout",
     "output_type": "stream",
     "text": [
      "수정된 데이터프레임\n    ints  floats\n0  10.0     1.5\n1  20.0     2.5\n2  30.0     3.5\n3  40.0     4.5\n4  50.0     5.5\n5  60.0     6.5\n6  70.0     7.5\n"
     ]
    }
   ],
   "source": [
    "# 새로운 행을 추가하기, 인덱스 지정\n",
    "df = df.append(pd.DataFrame({'ints':70, 'floats':7.5}, index=[6,]))\n",
    "print('수정된 데이터프레임\\n', df)"
   ]
  },
  {
   "cell_type": "code",
   "execution_count": 54,
   "metadata": {},
   "outputs": [
    {
     "name": "stdout",
     "output_type": "stream",
     "text": [
      "수정된 데이터프레임\n     0\na   1\nb   4\nx   9\ny  16\nz  25\n"
     ]
    }
   ],
   "source": [
    "# 데이터 프레임 합치기 - join\n",
    "# 두 데이터프레임을 합치는 기준은 index\n",
    "# index가 없는 데이터를 합치는 경구 NaN으로 저장\n",
    "df.index = ['a','b','c','d','e','f','g']\n",
    "\n",
    "df2 = pd.DataFrame([1,4,9,16,25], index=['a','b','x','y','z'])\n",
    "print('수정된 데이터프레임\\n', df2)\n",
    "\n",
    "\n"
   ]
  },
  {
   "cell_type": "code",
   "execution_count": 61,
   "metadata": {},
   "outputs": [
    {
     "name": "stdout",
     "output_type": "stream",
     "text": [
      "inner 조인된 데이터 프레임\n    ints  floats  0\na  10.0     1.5  1\nb  20.0     2.5  4\nouter 조인된 데이터 프레임\n    ints  floats     0\na  10.0     1.5   1.0\nb  20.0     2.5   4.0\nc  30.0     3.5   NaN\nd  40.0     4.5   NaN\ne  50.0     5.5   NaN\nf  60.0     6.5   NaN\ng  70.0     7.5   NaN\nx   NaN     NaN   9.0\ny   NaN     NaN  16.0\nz   NaN     NaN  25.0\n"
     ]
    }
   ],
   "source": [
    "#print('조인된 데이터 프레임\\n', df3)\n",
    "df4 = df.join(df2, how= 'inner')   # 일치하는 인덱스 위주\n",
    "print('inner 조인된 데이터 프레임\\n', df4)\n",
    "df5 = df.join(df2, how= 'outer')   # 일치하지 않는 인덱스 위주\n",
    "print('outer 조인된 데이터 프레임\\n', df5)\n",
    "\n"
   ]
  },
  {
   "cell_type": "code",
   "execution_count": 67,
   "metadata": {},
   "outputs": [],
   "source": [
    "# df6 = df.join(df, how='left')\n",
    "# #print('left 조인된 데이터 프레임\\n', df6)\n",
    "# df7= df.join(df, how='right')\n",
    "# #print('right 조인된 데이터 프레임\\n', df7)"
   ]
  },
  {
   "cell_type": "code",
   "execution_count": null,
   "metadata": {},
   "outputs": [],
   "source": []
  },
  {
   "cell_type": "code",
   "execution_count": 6,
   "metadata": {},
   "outputs": [],
   "source": [
    "# ex) titanic 데이터 셋을 이용한 예제\n",
    "titanic = pd.read_csv('c:/Java/data/train.csv', encoding='utf-8')"
   ]
  },
  {
   "cell_type": "code",
   "execution_count": 8,
   "metadata": {},
   "outputs": [
    {
     "name": "stdout",
     "output_type": "stream",
     "text": [
      "데이터 구조 파악(행, 열) (891, 12)\n기술적 통계 파악\n        PassengerId    Survived      Pclass         Age       SibSp  \\\ncount   891.000000  891.000000  891.000000  714.000000  891.000000   \nmean    446.000000    0.383838    2.308642   29.699118    0.523008   \nstd     257.353842    0.486592    0.836071   14.526497    1.102743   \nmin       1.000000    0.000000    1.000000    0.420000    0.000000   \n25%     223.500000    0.000000    2.000000   20.125000    0.000000   \n50%     446.000000    0.000000    3.000000   28.000000    0.000000   \n75%     668.500000    1.000000    3.000000   38.000000    1.000000   \nmax     891.000000    1.000000    3.000000   80.000000    8.000000   \n\n            Parch        Fare  \ncount  891.000000  891.000000  \nmean     0.381594   32.204208  \nstd      0.806057   49.693429  \nmin      0.000000    0.000000  \n25%      0.000000    7.910400  \n50%      0.000000   14.454200  \n75%      0.000000   31.000000  \nmax      6.000000  512.329200  \n"
     ]
    }
   ],
   "source": [
    "# 타이타닉 데이터 구조 파악\n",
    "print('데이터 구조 파악(행, 열)', titanic.shape)\n",
    "print( '기술적 통계 파악\\n', titanic.describe())"
   ]
  },
  {
   "cell_type": "code",
   "execution_count": 14,
   "metadata": {},
   "outputs": [
    {
     "name": "stdout",
     "output_type": "stream",
     "text": [
      "1번째 승객 정보1\n PassengerId                          1\nSurvived                             0\nPclass                               3\nName           Braund, Mr. Owen Harris\nSex                               male\nAge                                 22\nSibSp                                1\nParch                                0\nTicket                       A/5 21171\nFare                              7.25\nCabin                              NaN\nEmbarked                             S\nName: 0, dtype: object\n"
     ]
    }
   ],
   "source": [
    "# 타이타닉 데이터 중 1번째 승객 정보 출력\n",
    "print('1번째 승객 정보1\\n', titanic.iloc[0])"
   ]
  },
  {
   "cell_type": "code",
   "execution_count": 15,
   "metadata": {},
   "outputs": [
    {
     "name": "stdout",
     "output_type": "stream",
     "text": [
      "1번째 승객 정보2\n    PassengerId  Survived  Pclass                     Name   Sex   Age  SibSp  \\\n0            1         0       3  Braund, Mr. Owen Harris  male  22.0      1   \n\n   Parch     Ticket  Fare Cabin Embarked  \n0      0  A/5 21171  7.25   NaN        S  \n"
     ]
    }
   ],
   "source": [
    "# 타이타닉 데이터 중 1번째 승객 정보 출력\n",
    "print('1번째 승객 정보2\\n', titanic[:1])"
   ]
  },
  {
   "cell_type": "code",
   "execution_count": 17,
   "metadata": {},
   "outputs": [
    {
     "name": "stdout",
     "output_type": "stream",
     "text": [
      "5-10번째 승객 정보2\n    PassengerId  Survived  Pclass  \\\n4            5         0       3   \n5            6         0       3   \n6            7         0       1   \n7            8         0       3   \n8            9         1       3   \n9           10         1       2   \n\n                                                Name     Sex   Age  SibSp  \\\n4                           Allen, Mr. William Henry    male  35.0      0   \n5                                   Moran, Mr. James    male   NaN      0   \n6                            McCarthy, Mr. Timothy J    male  54.0      0   \n7                     Palsson, Master. Gosta Leonard    male   2.0      3   \n8  Johnson, Mrs. Oscar W (Elisabeth Vilhelmina Berg)  female  27.0      0   \n9                Nasser, Mrs. Nicholas (Adele Achem)  female  14.0      1   \n\n   Parch  Ticket     Fare Cabin Embarked  \n4      0  373450   8.0500   NaN        S  \n5      0  330877   8.4583   NaN        Q  \n6      0   17463  51.8625   E46        S  \n7      1  349909  21.0750   NaN        S  \n8      2  347742  11.1333   NaN        S  \n9      0  237736  30.0708   NaN        C  \n"
     ]
    }
   ],
   "source": [
    "# 타이타닉 데이터 중 5-10번째 승객 정보 출력\n",
    "print('5-10번째 승객 정보2\\n', titanic.iloc[4:10])"
   ]
  },
  {
   "cell_type": "code",
   "execution_count": 18,
   "metadata": {},
   "outputs": [
    {
     "name": "stdout",
     "output_type": "stream",
     "text": [
      "생존 여부\n 0    False\n1     True\n2     True\n3     True\n4    False\nName: Survived, dtype: bool\n"
     ]
    }
   ],
   "source": [
    "# 조건 검색하기\n",
    "print('생존 여부\\n', (titanic['Survived']==1).head())"
   ]
  },
  {
   "cell_type": "code",
   "execution_count": 19,
   "metadata": {},
   "outputs": [
    {
     "name": "stdout",
     "output_type": "stream",
     "text": [
      "생존자\n    PassengerId  Survived  Pclass  \\\n1            2         1       1   \n2            3         1       3   \n3            4         1       1   \n8            9         1       3   \n9           10         1       2   \n\n                                                Name     Sex   Age  SibSp  \\\n1  Cumings, Mrs. John Bradley (Florence Briggs Th...  female  38.0      1   \n2                             Heikkinen, Miss. Laina  female  26.0      0   \n3       Futrelle, Mrs. Jacques Heath (Lily May Peel)  female  35.0      1   \n8  Johnson, Mrs. Oscar W (Elisabeth Vilhelmina Berg)  female  27.0      0   \n9                Nasser, Mrs. Nicholas (Adele Achem)  female  14.0      1   \n\n   Parch            Ticket     Fare Cabin Embarked  \n1      0          PC 17599  71.2833   C85        C  \n2      0  STON/O2. 3101282   7.9250   NaN        S  \n3      0            113803  53.1000  C123        S  \n8      2            347742  11.1333   NaN        S  \n9      0            237736  30.0708   NaN        C  \n"
     ]
    }
   ],
   "source": [
    "print('생존자\\n', (titanic[titanic['Survived']==1]).head())"
   ]
  },
  {
   "cell_type": "code",
   "execution_count": 23,
   "metadata": {},
   "outputs": [
    {
     "name": "stdout",
     "output_type": "stream",
     "text": [
      "남자승객 생존부\n 0    False\n1    False\n2    False\n3    False\n4    False\ndtype: bool\n"
     ]
    }
   ],
   "source": [
    "print('남자승객 생존부\\n', ((titanic['Survived']==1)&(titanic['Sex']=='male')).head())"
   ]
  },
  {
   "cell_type": "code",
   "execution_count": 24,
   "metadata": {},
   "outputs": [
    {
     "name": "stdout",
     "output_type": "stream",
     "text": [
      "25세 이상 여자 승객 생존여부\n 0    False\n1     True\n2     True\n3     True\n4    False\ndtype: bool\n"
     ]
    }
   ],
   "source": [
    "print('25세 이상 여자 승객 생존여부\\n', ((titanic['Survived']==1)&(titanic['Age']>=25)&\n",
    "                              (titanic['Sex']=='female')).head())"
   ]
  },
  {
   "cell_type": "code",
   "execution_count": 25,
   "metadata": {},
   "outputs": [
    {
     "name": "stdout",
     "output_type": "stream",
     "text": [
      "25세 이상 여자 승객 생존여부\n 0    False\n1     True\n2     True\n3     True\n4    False\ndtype: bool\n"
     ]
    }
   ],
   "source": [
    "a = titanic['Survived']==1\n",
    "b= titanic['Age']>=25\n",
    "c=titanic['Sex']=='female'\n",
    "\n",
    "print('25세 이상 여자 승객 생존여부\\n',(a&b&c).head())"
   ]
  },
  {
   "cell_type": "code",
   "execution_count": 28,
   "metadata": {},
   "outputs": [
    {
     "name": "stdout",
     "output_type": "stream",
     "text": [
      "25세 이상 여자 승객 생존여부\n      Age     Sex  Survived\n1   38.0  female         1\n2   26.0  female         1\n3   35.0  female         1\n8   27.0  female         1\n11  58.0  female         1\n15  55.0  female         1\n25  38.0  female         1\n52  49.0  female         1\n53  29.0  female         1\n61  38.0  female         1\n"
     ]
    }
   ],
   "source": [
    "print('25세 이상 여자 승객 생존여부\\n',titanic[a&b&c][['Age','Sex','Survived']].head(10))"
   ]
  },
  {
   "cell_type": "code",
   "execution_count": null,
   "metadata": {},
   "outputs": [],
   "source": []
  },
  {
   "cell_type": "code",
   "execution_count": null,
   "metadata": {},
   "outputs": [],
   "source": []
  },
  {
   "cell_type": "code",
   "execution_count": null,
   "metadata": {},
   "outputs": [],
   "source": []
  }
 ],
 "metadata": {
  "kernelspec": {
   "display_name": "Python 2",
   "language": "python",
   "name": "python2"
  },
  "language_info": {
   "codemirror_mode": {
    "name": "ipython",
    "version": 2
   },
   "file_extension": ".py",
   "mimetype": "text/x-python",
   "name": "python",
   "nbconvert_exporter": "python",
   "pygments_lexer": "ipython2",
   "version": "2.7.6"
  }
 },
 "nbformat": 4,
 "nbformat_minor": 0
}
